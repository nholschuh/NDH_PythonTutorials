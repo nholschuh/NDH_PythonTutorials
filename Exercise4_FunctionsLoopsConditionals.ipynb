{
 "cells": [
  {
   "cell_type": "markdown",
   "metadata": {
    "id": "YauUiLvnkfbE"
   },
   "source": [
    "# Exercise 4: Functions, Loops, and Conditionals\n",
    "\n",
    "Contents\n",
    "1. Generating your own functions\n",
    "    * Basic functions\n",
    "    * Optional and default arguments\n",
    "1. Return Statements  \n",
    "1. Loops\n",
    "1. Conditionals"
   ]
  },
  {
   "cell_type": "markdown",
   "metadata": {
    "id": "DwM1ae71kfbF"
   },
   "source": [
    "## 1. Generating your own functions\n",
    "\n",
    "### 1.1 Basic Functions"
   ]
  },
  {
   "cell_type": "markdown",
   "metadata": {
    "id": "zl05f-9ckfbF"
   },
   "source": [
    "Python functions are useful for completing tasks that we'd like to do more than once (e.g. for different values of an input variable). A useful example is the `sin` function. There are many, many reasons why one might want to take the sin of something, so it is useful to define the sin function once and for all so that any program that needs to take the sin can do so, rather than having to come up with their own approximation of the sin using a Taylor expansion, etc.\n",
    "\n",
    "The capability that we are seeking is provided by defining new functions. This allows us to make our own functions that are just like the sin function, and can be called in a similar way. Functions are defined by the following syntax:"
   ]
  },
  {
   "cell_type": "code",
   "execution_count": null,
   "metadata": {
    "id": "92E6D45FkfbG"
   },
   "outputs": [],
   "source": [
    "def myfunc(arg1, arg2):\n",
    "    print(\"I am a function! Here are my arguments:\")\n",
    "    print(arg1)\n",
    "    print(arg2)\n",
    "    print(\"I am returning my first argument now!\")\n",
    "    return(arg1)"
   ]
  },
  {
   "cell_type": "markdown",
   "metadata": {
    "id": "DwKzfIz8kfbJ"
   },
   "source": [
    "This defines a very simple function. Let's walk through this declaration step by step:\n",
    "The first line begins with def, then the name of the function, and then in parentheses a list of arguments for the function, then a colon. Then we provide space for the arguments -- for example, the sin function takes an angle as an argument. In this example our function has two arguments. The number of arguments is arbitrary, and can be zero, in which case the parentheses are just left empty. It is also possible to write functions where the number of arguments is variable, and need not be the same every time the function is called, but we won't discuss that capability further in this exercise.  \n",
    "\n",
    "After the define line, we begin the body of the function. Note that all the lines in the function body are indented. This indentation is IMPORTANT. In python, indentation is used to indicate that a particular line belongs to a particular function, loop, or other block of code. All the lines of the function are indented four spaces. If you're using entering this manually in ipython, either at the command line or in the notebook, you don't need to type in those four spaces by hand; the ipython shell will automatically enter them for you after seeing the def line. If for some reason this doesn't happen automatically, you can just hit the tab key and the correct number of spaces will be entered for you.  \n",
    "\n",
    "Within the body of the function, we can enter whatever commands we like. We can print things, for example. The arguments that appeared in parentheses in the definition are accessible within the function, and can be manipulated however we like.  \n",
    "\n",
    "At the end of the function, we have a statement that begins `return`. A `return` causes the function to give back a value, which the calling program can print, assign to a variable, or do something else with. For example the sin function returns the sin of the input angle. Return values are optional: functions don't have to return anything, and can just end."
   ]
  },
  {
   "cell_type": "markdown",
   "metadata": {
    "id": "zoKyWq2lkfbK"
   },
   "source": [
    "OK, with that in mind, let's try defining this function"
   ]
  },
  {
   "cell_type": "code",
   "execution_count": null,
   "metadata": {
    "id": "ETSerEzjkfbK"
   },
   "outputs": [],
   "source": [
    "def myfunc(arg1, arg2):\n",
    "    \"\"\"\n",
    "    This is a function that does nothing in particular\n",
    "    \"\"\"   \n",
    "    print(\"I am a function! Here are my arguments:\")\n",
    "    print(arg1)\n",
    "    print(arg2)\n",
    "    print(\"I am returning my first argument now!\")\n",
    "    return(arg1)"
   ]
  },
  {
   "cell_type": "markdown",
   "metadata": {
    "id": "X6p3PHsKkfbN"
   },
   "source": [
    "When we enter that, nothing is printed out, but python now knows about this function. To demonstrate this, let's try calling it:"
   ]
  },
  {
   "cell_type": "code",
   "execution_count": null,
   "metadata": {
    "colab": {
     "base_uri": "https://localhost:8080/"
    },
    "executionInfo": {
     "elapsed": 143,
     "status": "ok",
     "timestamp": 1630646119577,
     "user": {
      "displayName": "William Loinaz",
      "photoUrl": "",
      "userId": "03083183595543215532"
     },
     "user_tz": 240
    },
    "id": "uRot32TZkfbO",
    "outputId": "d2e30778-173e-4848-a838-565d7b24d0eb"
   },
   "outputs": [],
   "source": [
    "myfunc(1,2)"
   ]
  },
  {
   "cell_type": "markdown",
   "metadata": {
    "id": "k_Dnf-rckfbR"
   },
   "source": [
    "\n",
    "<div class=\"alert alert-block alert-info\">\n",
    "<b>Note:</b> two things about the formatting of the function.\n",
    "    \n",
    "1. I included something called a \"docstring\" (denoted with the triple quotations at the start and end). This is a description of what the function does and is visible when call that function with a question mark (as below). Many companies (e.g. Google) have extensive rules about what should be included in a docstring. For example, [here](http://sphinxcontrib-napoleon.readthedocs.io/en/latest/example_google.html) is a sample Google docstring. Generally speaking, it should include a description of what the function does, some notes about the input and output, and specifics about any optional inputs (\"keywords\") and what they do. \n",
    "    \n",
    "2. Spacing matters in python, and the code that actually defines the function is all indented by 4 spaces relative to the def line. \n",
    "</div>\n"
   ]
  },
  {
   "cell_type": "code",
   "execution_count": null,
   "metadata": {
    "id": "sDngo0hKkfbR"
   },
   "outputs": [],
   "source": [
    "myfunc?"
   ]
  },
  {
   "cell_type": "markdown",
   "metadata": {
    "id": "rS6fg1PokfbT"
   },
   "source": [
    "### Exercise 1\n",
    "\n",
    "-----------------------------\n",
    "\n",
    "Write a function called \"hellox\" that does the following.\n",
    "1. Takes an input variable (a name).\n",
    "2. Defines a string variable myname that is equal to your name.\n",
    "3. prints \"Hello input, my name is myname.\", where input and myname are described in 1 and 2\n",
    "4. returns nothing\n",
    "5. Has a simple docstring that describes what it does"
   ]
  },
  {
   "cell_type": "code",
   "execution_count": null,
   "metadata": {
    "id": "pdzrd-V1kfbU"
   },
   "outputs": [],
   "source": [
    "#function definition goes here"
   ]
  },
  {
   "cell_type": "code",
   "execution_count": null,
   "metadata": {
    "id": "9p_pxIAbkfbX"
   },
   "outputs": [],
   "source": [
    "#test statement goes here"
   ]
  },
  {
   "cell_type": "markdown",
   "metadata": {
    "id": "eYkQk1d2kfbZ"
   },
   "source": [
    "### 1.2 Optional and default arguments\n",
    "\n",
    "Functions we define have to be called with the right number of arguments, where \"right\" means \"however many arguments the function says it wants\". Let's see what happens if we fail to do this:"
   ]
  },
  {
   "cell_type": "code",
   "execution_count": null,
   "metadata": {
    "colab": {
     "base_uri": "https://localhost:8080/",
     "height": 164
    },
    "executionInfo": {
     "elapsed": 130,
     "status": "error",
     "timestamp": 1630646187488,
     "user": {
      "displayName": "William Loinaz",
      "photoUrl": "",
      "userId": "03083183595543215532"
     },
     "user_tz": 240
    },
    "id": "x5KxgsUykfbZ",
    "outputId": "daad3757-0d35-4926-ac63-559f3eb7d676"
   },
   "outputs": [],
   "source": [
    "myfunc()"
   ]
  },
  {
   "cell_type": "markdown",
   "metadata": {
    "id": "one9Rz68kfbc"
   },
   "source": [
    "We get an error message. Sometimes, however, it is convenient to have arguments that are optional. They can be set if a user wants, but they don't have to be. We define optional arguments (sometimes called \"keywords\") by giving them names and assigning default values in the argument list. Here's an example."
   ]
  },
  {
   "cell_type": "code",
   "execution_count": null,
   "metadata": {
    "id": "mBC1zprNkfbc"
   },
   "outputs": [],
   "source": [
    "def myfunc2(arg1, arg2='cheese', arg3='sandwich'):\n",
    "    print(\"I take one mandatory argument, and two optional ones.\")\n",
    "    print(\"The mandatory argument is:\")\n",
    "    print(arg1)\n",
    "    print(\"The optional arguments are:\")\n",
    "    print(arg2)\n",
    "    print(arg3)"
   ]
  },
  {
   "cell_type": "markdown",
   "metadata": {
    "id": "RFKsrJm4kfbf"
   },
   "source": [
    "In this definition, the argument arg1 is required, and is not given a default value. In contrast, the arguments arg2 and arg3 are optional, and are given defaults. If this function is called without arg2 or arg3 being set, they will be assigned to the default value indicated.\n",
    "\n",
    "Let's reload the module again so that we import this new definition, then experiment with this new capability:"
   ]
  },
  {
   "cell_type": "code",
   "execution_count": null,
   "metadata": {
    "colab": {
     "base_uri": "https://localhost:8080/"
    },
    "executionInfo": {
     "elapsed": 120,
     "status": "ok",
     "timestamp": 1630646252651,
     "user": {
      "displayName": "William Loinaz",
      "photoUrl": "",
      "userId": "03083183595543215532"
     },
     "user_tz": 240
    },
    "id": "2jIP7RM7kfbf",
    "outputId": "e29f6f60-92e1-4b66-c7cc-9c2d6318bf04"
   },
   "outputs": [],
   "source": [
    "myfunc2(1)"
   ]
  },
  {
   "cell_type": "code",
   "execution_count": null,
   "metadata": {
    "colab": {
     "base_uri": "https://localhost:8080/"
    },
    "executionInfo": {
     "elapsed": 138,
     "status": "ok",
     "timestamp": 1630646298183,
     "user": {
      "displayName": "William Loinaz",
      "photoUrl": "",
      "userId": "03083183595543215532"
     },
     "user_tz": 240
    },
    "id": "NBzEehArkfbh",
    "outputId": "dff050f4-8726-402a-d500-bf437a51bc54"
   },
   "outputs": [],
   "source": [
    "myfunc2(1, arg3='burger')"
   ]
  },
  {
   "cell_type": "code",
   "execution_count": null,
   "metadata": {
    "colab": {
     "base_uri": "https://localhost:8080/"
    },
    "executionInfo": {
     "elapsed": 156,
     "status": "ok",
     "timestamp": 1630646265010,
     "user": {
      "displayName": "William Loinaz",
      "photoUrl": "",
      "userId": "03083183595543215532"
     },
     "user_tz": 240
    },
    "id": "relNjVWukfbj",
    "outputId": "9cafb7dd-9dab-4538-9627-6d7649462757"
   },
   "outputs": [],
   "source": [
    "myfunc2(1, arg2='ham')"
   ]
  },
  {
   "cell_type": "code",
   "execution_count": null,
   "metadata": {
    "colab": {
     "base_uri": "https://localhost:8080/"
    },
    "executionInfo": {
     "elapsed": 134,
     "status": "ok",
     "timestamp": 1630646272958,
     "user": {
      "displayName": "William Loinaz",
      "photoUrl": "",
      "userId": "03083183595543215532"
     },
     "user_tz": 240
    },
    "id": "HwhrQrA7kfbm",
    "outputId": "dbe488bd-8534-4503-b012-87c99d096434"
   },
   "outputs": [],
   "source": [
    "myfunc2(1, 'peanut butter')"
   ]
  },
  {
   "cell_type": "markdown",
   "metadata": {
    "id": "2VfC1q5Ukfbo"
   },
   "source": [
    "Here we see that optional arguments can be handled several ways when calling a function. First, we can just give the mandatory argument and skip the optional ones, in which case they get their default values. Second, we can call specify one or more of the optional arguments by name, and use the equal sign to specify the value we want it to have. Third, we can give more than just the mandatory number of arguments, but not specify names. In this case, the first extra argument (beyond the mandatory ones) is assumed to correspond to the the first optional argument, the second extra argument to the second optional one, etc.\n",
    "\n",
    "In some cases we want an argument to be option and NOT to have a default value. If it is not set, we want nothing to be assigned. Fortunately, python provides a way to do this. Variables can be set to the special value None, which indicates that the variable has not been assigned to anything. We can always make the default value be None, for example\n",
    "\n",
    "`def mfunc2(arg1, arg2='cheese', arg3=None):`"
   ]
  },
  {
   "cell_type": "markdown",
   "metadata": {
    "id": "vq5HAnDekfbo"
   },
   "source": [
    "### Exercise 2\n",
    "\n",
    "Create a function called hellox_new that contains your original hellox function from Exercise 1.  \n",
    "1. Modify it to include an optional argument called mood, with a default value \"grumpy\".  \n",
    "2. Change the print statement to \"Hello *input*, my name is *myname* and today I'm feeling *mood*\"\n",
    "3. Modify your docstring as necessary\n"
   ]
  },
  {
   "cell_type": "code",
   "execution_count": null,
   "metadata": {
    "id": "GSEeNvUMkfbp"
   },
   "outputs": [],
   "source": [
    "#function definition goes here"
   ]
  },
  {
   "cell_type": "code",
   "execution_count": null,
   "metadata": {
    "id": "OMf9aD97kfbs"
   },
   "outputs": [],
   "source": [
    "#test statements go here"
   ]
  },
  {
   "cell_type": "markdown",
   "metadata": {
    "id": "_VwQLRUVkfbu"
   },
   "source": [
    "---\n",
    "\n",
    "# 2. Return Statements\n",
    "\n",
    "Thus far we've not paid much attention to function return statements. Indeed, you don't HAVE to have a return statement at the end of a function. For example:"
   ]
  },
  {
   "cell_type": "code",
   "execution_count": null,
   "metadata": {
    "id": "Hsiqq7trkfbu"
   },
   "outputs": [],
   "source": [
    "def dummy_func(x=0, y=0):\n",
    "    \"\"\"This function takes two optional arguments (x and y) with default values of zero and adds them together \n",
    "    to create a new variable z, then prints it.\"\"\"\n",
    "    x\n",
    "    y\n",
    "    z=x+y\n",
    "    z"
   ]
  },
  {
   "cell_type": "code",
   "execution_count": null,
   "metadata": {
    "id": "C5H5Wy3akfby"
   },
   "outputs": [],
   "source": [
    "dummy_func()"
   ]
  },
  {
   "cell_type": "markdown",
   "metadata": {
    "id": "KIwli92ukfb0"
   },
   "source": [
    "Note first that the function did not print out x, y and z, even though typing the variable name alone usually prints the value stored in it when you type just the variable in an ordinary Jupyter notebook cell. That's not the case with functions. If you want to print something you have to tell it to print. For example:"
   ]
  },
  {
   "cell_type": "code",
   "execution_count": null,
   "metadata": {
    "id": "2oTPHxhDkfb0"
   },
   "outputs": [],
   "source": [
    "def dummy_func(x=0, y=0):\n",
    "    \"\"\"This function takes two optional arguments (x and y) with default values of zero and adds them together \n",
    "    to create a new variable z, then prints it.\"\"\"\n",
    "    print(\"x is\", x)\n",
    "    print(\"y is\", y)\n",
    "    z=x+y\n",
    "    print(\"z is\", z)"
   ]
  },
  {
   "cell_type": "code",
   "execution_count": null,
   "metadata": {
    "colab": {
     "base_uri": "https://localhost:8080/"
    },
    "executionInfo": {
     "elapsed": 129,
     "status": "ok",
     "timestamp": 1630646495892,
     "user": {
      "displayName": "William Loinaz",
      "photoUrl": "",
      "userId": "03083183595543215532"
     },
     "user_tz": 240
    },
    "id": "CrimVxaHkfb2",
    "outputId": "1ec41187-e6a6-4b8c-f177-33773bacf16e"
   },
   "outputs": [],
   "source": [
    "dummy_func(2,3)"
   ]
  },
  {
   "cell_type": "markdown",
   "metadata": {
    "id": "1I08Z28Okfb9"
   },
   "source": [
    "This brings up another subtelty that it's worth reemphasizing here - optional arguments can be specified in a function call in any order ***but*** if you don't tell it which variable you mean in the function call, it will assume that you are specifying them in order. For example, as I've written the function, you should be able to specify none, one or two arguments in any order. Make sure you understand what each of the following cells are doing before moving on"
   ]
  },
  {
   "cell_type": "code",
   "execution_count": null,
   "metadata": {
    "colab": {
     "base_uri": "https://localhost:8080/"
    },
    "executionInfo": {
     "elapsed": 134,
     "status": "ok",
     "timestamp": 1630646513209,
     "user": {
      "displayName": "William Loinaz",
      "photoUrl": "",
      "userId": "03083183595543215532"
     },
     "user_tz": 240
    },
    "id": "gpR9cvuEkfb9",
    "outputId": "31f597e3-bc40-41f9-ece9-df99a3d16491"
   },
   "outputs": [],
   "source": [
    "dummy_func(1)"
   ]
  },
  {
   "cell_type": "code",
   "execution_count": null,
   "metadata": {
    "colab": {
     "base_uri": "https://localhost:8080/"
    },
    "executionInfo": {
     "elapsed": 124,
     "status": "ok",
     "timestamp": 1630646515729,
     "user": {
      "displayName": "William Loinaz",
      "photoUrl": "",
      "userId": "03083183595543215532"
     },
     "user_tz": 240
    },
    "id": "jp60gkuNkfb_",
    "outputId": "368e762d-6475-4115-c565-34f9b93c5ca1"
   },
   "outputs": [],
   "source": [
    "dummy_func(y=1)"
   ]
  },
  {
   "cell_type": "code",
   "execution_count": null,
   "metadata": {
    "colab": {
     "base_uri": "https://localhost:8080/"
    },
    "executionInfo": {
     "elapsed": 126,
     "status": "ok",
     "timestamp": 1630646521887,
     "user": {
      "displayName": "William Loinaz",
      "photoUrl": "",
      "userId": "03083183595543215532"
     },
     "user_tz": 240
    },
    "id": "GAjvAE9nkfcD",
    "outputId": "457485df-5ad7-4eab-cbba-f539206a5d71"
   },
   "outputs": [],
   "source": [
    "dummy_func(y=3,x=2)"
   ]
  },
  {
   "cell_type": "code",
   "execution_count": null,
   "metadata": {
    "colab": {
     "base_uri": "https://localhost:8080/"
    },
    "executionInfo": {
     "elapsed": 140,
     "status": "ok",
     "timestamp": 1630646529444,
     "user": {
      "displayName": "William Loinaz",
      "photoUrl": "",
      "userId": "03083183595543215532"
     },
     "user_tz": 240
    },
    "id": "xxl05DzDkfcF",
    "outputId": "b2556925-f22e-49cd-ea10-46dd5ef78d40"
   },
   "outputs": [],
   "source": [
    "dummy_func(3,2)"
   ]
  },
  {
   "cell_type": "markdown",
   "metadata": {
    "id": "YC6E7bQXkfcI"
   },
   "source": [
    "Back to the function dummy_func. Note that we did not include a return statement in the definition cell. A return statement is not necessary to delimit the end of a function. In fact, a function will consist of any code that is indented beneath it. If you remove the indentation, any code that you write is no longer considered part of the function. For example:"
   ]
  },
  {
   "cell_type": "code",
   "execution_count": null,
   "metadata": {
    "colab": {
     "base_uri": "https://localhost:8080/"
    },
    "executionInfo": {
     "elapsed": 128,
     "status": "ok",
     "timestamp": 1630646590966,
     "user": {
      "displayName": "William Loinaz",
      "photoUrl": "",
      "userId": "03083183595543215532"
     },
     "user_tz": 240
    },
    "id": "zPUm93nekfcI",
    "outputId": "b57a20af-1c2d-408c-b7ee-802dcfa44f6d"
   },
   "outputs": [],
   "source": [
    "def dummy_func(x=0, y=0):\n",
    "    \"\"\"This function takes two optional arguments (x and y) with default values of zero and adds them together \n",
    "    to create a new variable z, then prints it.\"\"\"\n",
    "    print(\"x is\", x)\n",
    "    print(\"y is\", y)\n",
    "    z=x+y\n",
    "    print(\"z is\", z)\n",
    "\n",
    "print('This is not part of the function and will not be printed when I call it. It will print when I execute this cell')"
   ]
  },
  {
   "cell_type": "code",
   "execution_count": null,
   "metadata": {
    "colab": {
     "base_uri": "https://localhost:8080/"
    },
    "executionInfo": {
     "elapsed": 138,
     "status": "ok",
     "timestamp": 1630646607643,
     "user": {
      "displayName": "William Loinaz",
      "photoUrl": "",
      "userId": "03083183595543215532"
     },
     "user_tz": 240
    },
    "id": "UO9KNhzMkfcL",
    "outputId": "0b814dd5-dd66-4f00-d68b-f0451769272f"
   },
   "outputs": [],
   "source": [
    "dummy_func()"
   ]
  },
  {
   "cell_type": "markdown",
   "metadata": {
    "id": "eASad0YnkfcN"
   },
   "source": [
    "The main purpose of return statements is to return calculated values, arrays, etc. to the user so that they can be referenced in future code cells. So far our code has mostly involved printing things, but sometimes we want to use and manupulate the output of a function and so it needs to be passed back to the user. For example:"
   ]
  },
  {
   "cell_type": "code",
   "execution_count": null,
   "metadata": {
    "id": "E4lE_I3QkfcN"
   },
   "outputs": [],
   "source": [
    "def dummy_func(x=0, y=0):\n",
    "    \"\"\"This function takes two optional arguments (x and y) with default values of zero and adds them together \n",
    "    to create a new variable z, then prints it.\"\"\"\n",
    "    print(\"x is\", x)\n",
    "    print(\"y is\", y)\n",
    "    z=x+y\n",
    "    print(\"z is\", z)\n",
    "    return z"
   ]
  },
  {
   "cell_type": "code",
   "execution_count": null,
   "metadata": {
    "colab": {
     "base_uri": "https://localhost:8080/"
    },
    "executionInfo": {
     "elapsed": 129,
     "status": "ok",
     "timestamp": 1630646649329,
     "user": {
      "displayName": "William Loinaz",
      "photoUrl": "",
      "userId": "03083183595543215532"
     },
     "user_tz": 240
    },
    "id": "P0_syRvIkfcQ",
    "outputId": "30236664-949c-4863-9392-a26e848a15aa"
   },
   "outputs": [],
   "source": [
    "dummy_func()"
   ]
  },
  {
   "cell_type": "markdown",
   "metadata": {
    "id": "N9AeSVDakfcS"
   },
   "source": [
    "Note in executing the cell above, you now have output (0 in this case). Nice, but stil not that useful for manipulating. The function returns z as output, but does not store anything in a variable called z. So even though you defined z within the function and returned it, python will not recognize the variable. You can see this by executing the cell below, which will return an error. "
   ]
  },
  {
   "cell_type": "code",
   "execution_count": null,
   "metadata": {
    "colab": {
     "base_uri": "https://localhost:8080/",
     "height": 164
    },
    "executionInfo": {
     "elapsed": 131,
     "status": "error",
     "timestamp": 1630646681787,
     "user": {
      "displayName": "William Loinaz",
      "photoUrl": "",
      "userId": "03083183595543215532"
     },
     "user_tz": 240
    },
    "id": "DFPHwFZUkfcT",
    "outputId": "dedb2bb2-354c-458d-bbf9-e4d82f46f920"
   },
   "outputs": [],
   "source": [
    "z"
   ]
  },
  {
   "cell_type": "markdown",
   "metadata": {
    "id": "CdjrhZYJkfcW"
   },
   "source": [
    "This is an important higher-order thing to note about functions - variables only have meaning ***within*** them, not outside them. If I want the function to return whatever I've told it to return (z) ***and*** store it in a variable, I have to tell it so via the following syntax:"
   ]
  },
  {
   "cell_type": "code",
   "execution_count": null,
   "metadata": {
    "colab": {
     "base_uri": "https://localhost:8080/"
    },
    "executionInfo": {
     "elapsed": 135,
     "status": "ok",
     "timestamp": 1630646692409,
     "user": {
      "displayName": "William Loinaz",
      "photoUrl": "",
      "userId": "03083183595543215532"
     },
     "user_tz": 240
    },
    "id": "DCKsGSV6kfcX",
    "outputId": "e950433a-26ad-4b9d-eb1d-722c3b4114d5"
   },
   "outputs": [],
   "source": [
    "z = dummy_func()"
   ]
  },
  {
   "cell_type": "markdown",
   "metadata": {
    "id": "e4apwvapkfcZ"
   },
   "source": [
    "This time, I've told python that it should take the output of dummy_func and store it in the variable z. \n",
    "\n",
    "Functions can return arbitrary numbers of things as well"
   ]
  },
  {
   "cell_type": "code",
   "execution_count": null,
   "metadata": {
    "id": "W_pgwXzjkfcZ"
   },
   "outputs": [],
   "source": [
    "def dummy_func(x=0, y=0):\n",
    "    \"\"\"This function takes two optional arguments (x and y) with default values of zero and adds them together \n",
    "    to create a new variable z, then prints it.\"\"\"\n",
    "    print(\"x is\", x)\n",
    "    print(\"y is\", y)\n",
    "    z=x+y\n",
    "    print(\"z is\", z)\n",
    "    return x, y, z"
   ]
  },
  {
   "cell_type": "code",
   "execution_count": null,
   "metadata": {
    "colab": {
     "base_uri": "https://localhost:8080/"
    },
    "executionInfo": {
     "elapsed": 141,
     "status": "ok",
     "timestamp": 1630646722152,
     "user": {
      "displayName": "William Loinaz",
      "photoUrl": "",
      "userId": "03083183595543215532"
     },
     "user_tz": 240
    },
    "id": "xI7nwppjkfcb",
    "outputId": "2083c4c0-28dd-40a4-9321-ec5ae016162d"
   },
   "outputs": [],
   "source": [
    "dummy_func()"
   ]
  },
  {
   "cell_type": "markdown",
   "metadata": {
    "id": "4qkmJ4-2kfce"
   },
   "source": [
    "And when you want to assign them to variables, you use a similar syntax, though it seems a bit funny. "
   ]
  },
  {
   "cell_type": "code",
   "execution_count": null,
   "metadata": {
    "colab": {
     "base_uri": "https://localhost:8080/"
    },
    "executionInfo": {
     "elapsed": 127,
     "status": "ok",
     "timestamp": 1630646741701,
     "user": {
      "displayName": "William Loinaz",
      "photoUrl": "",
      "userId": "03083183595543215532"
     },
     "user_tz": 240
    },
    "id": "QGZuuSVAkfce",
    "outputId": "c0432f2d-b6f6-4929-e8bf-b54b929b2547"
   },
   "outputs": [],
   "source": [
    "x, y, z = dummy_func()"
   ]
  },
  {
   "cell_type": "code",
   "execution_count": null,
   "metadata": {
    "colab": {
     "base_uri": "https://localhost:8080/"
    },
    "executionInfo": {
     "elapsed": 122,
     "status": "ok",
     "timestamp": 1630646746212,
     "user": {
      "displayName": "William Loinaz",
      "photoUrl": "",
      "userId": "03083183595543215532"
     },
     "user_tz": 240
    },
    "id": "sEJ5u4Rwkfcg",
    "outputId": "3da8e47a-957d-475d-eed2-f7b7894a06ab"
   },
   "outputs": [],
   "source": [
    "x"
   ]
  },
  {
   "cell_type": "code",
   "execution_count": null,
   "metadata": {
    "colab": {
     "base_uri": "https://localhost:8080/"
    },
    "executionInfo": {
     "elapsed": 155,
     "status": "ok",
     "timestamp": 1630646748340,
     "user": {
      "displayName": "William Loinaz",
      "photoUrl": "",
      "userId": "03083183595543215532"
     },
     "user_tz": 240
    },
    "id": "XxE21NPykfci",
    "outputId": "f6a97439-29cd-4011-c6ba-cb5af360b98b"
   },
   "outputs": [],
   "source": [
    "y"
   ]
  },
  {
   "cell_type": "code",
   "execution_count": null,
   "metadata": {
    "colab": {
     "base_uri": "https://localhost:8080/"
    },
    "executionInfo": {
     "elapsed": 142,
     "status": "ok",
     "timestamp": 1630646749789,
     "user": {
      "displayName": "William Loinaz",
      "photoUrl": "",
      "userId": "03083183595543215532"
     },
     "user_tz": 240
    },
    "id": "xRYO1pEekfck",
    "outputId": "aaaec31f-bb1b-4698-fb09-2cda95245b37"
   },
   "outputs": [],
   "source": [
    "z"
   ]
  },
  {
   "cell_type": "markdown",
   "metadata": {
    "id": "mGDxp6gfkfcm"
   },
   "source": [
    "Note that when you define a function with multiple return variables and you assign those returned variables into stored variables with = you ***must have an equal number of assigned variables as returned variables***. For example, the following will return an error. "
   ]
  },
  {
   "cell_type": "code",
   "execution_count": null,
   "metadata": {
    "colab": {
     "base_uri": "https://localhost:8080/",
     "height": 215
    },
    "executionInfo": {
     "elapsed": 133,
     "status": "error",
     "timestamp": 1630646766822,
     "user": {
      "displayName": "William Loinaz",
      "photoUrl": "",
      "userId": "03083183595543215532"
     },
     "user_tz": 240
    },
    "id": "IQbKYQOIkfcm",
    "outputId": "b63b4b13-4904-4876-a940-49e36d35f7ba"
   },
   "outputs": [],
   "source": [
    "x, y = dummy_func()"
   ]
  },
  {
   "cell_type": "markdown",
   "metadata": {
    "id": "evtNo8nf_lR3"
   },
   "source": [
    "---\n",
    "\n",
    "## 3. Loops \n",
    "\n",
    "Loops are the primary tool for performing repeated calculations, and while they can at times be inefficient, they enable some really powerful things. Here is a brief overview, followed by some practice opportunities for you:"
   ]
  },
  {
   "cell_type": "code",
   "execution_count": 8,
   "metadata": {},
   "outputs": [
    {
     "data": {
      "image/jpeg": "[encoded data removed]",
      "text/html": [
       "\n",
       "        <iframe\n",
       "            width=\"1000\"\n",
       "            height=\"600\"\n",
       "            src=\"https://www.youtube.com/embed/2IbQQXTzXGw\"\n",
       "            frameborder=\"0\"\n",
       "            allowfullscreen\n",
       "        ></iframe>\n",
       "        "
      ],
      "text/plain": [
       "<IPython.lib.display.YouTubeVideo at 0x7f4354446b20>"
      ]
     },
     "execution_count": 8,
     "metadata": {},
     "output_type": "execute_result"
    }
   ],
   "source": [
    "from IPython.display import YouTubeVideo\n",
    "YouTubeVideo('2IbQQXTzXGw', width=1000, height=600)"
   ]
  },
  {
   "cell_type": "markdown",
   "metadata": {
    "id": "evtNo8nf_lR3"
   },
   "source": [
    "We can use the loop designed in the cell below to deconstruct a typical loop anatomy:\n",
    "\n",
    "1. The variable which changes each iteration of the loop: in this case, `i`\n",
    "1. The array/list/object that contributes new information to each iteration of the loop: in this case, `[1,2,3,4]`\n",
    "1. The colon, this signifies that the code that comes next should be repeated. \"The loop\"\n",
    "1. The code that will be executed on each stage of the loop. All of this code needs to be indented the same amount for the loop to work.\n",
    "\n",
    "The code in the loop below will run 4 times. Each time, `i` will be a new value, as it steps through the list: `[1,2,3,4]`. `time.sleep(1)` forces the code to pause for a second. You can see the results below!"
   ]
  },
  {
   "cell_type": "code",
   "execution_count": null,
   "metadata": {
    "id": "-BkGSeB9Fm63"
   },
   "outputs": [],
   "source": [
    "import time\n",
    "\n",
    "for i in [1,2,3,4]:\n",
    "  print(i)\n",
    "  time.sleep(1)\n"
   ]
  },
  {
   "cell_type": "markdown",
   "metadata": {
    "id": "A6TA5CesHzQB"
   },
   "source": [
    "You can loop over any object that contains a sequential set of values (which python calls \"iterables\"), for example, we can loop over a list of strings:"
   ]
  },
  {
   "cell_type": "code",
   "execution_count": null,
   "metadata": {
    "id": "nE1H5p6wIhhZ"
   },
   "outputs": [],
   "source": [
    "students=['Angelina','Carley', 'Caroline', 'Colin', 'Conrad', 'Dalya', 'Devin', 'Ellen', 'Isabelle', 'Jonah', 'Kate','Kyler','Nathan','Petra','Rana','Rilla']\n",
    "\n",
    "for i in students:\n",
    "  print(i)\n",
    "  time.sleep(0.5)"
   ]
  },
  {
   "cell_type": "markdown",
   "metadata": {},
   "source": [
    "Something that may come in handy -- if you want to keep track of the number of times a loop has executed, you can use a built-in python function called `enumerate()`, which will still output each entry in the iterable but will also output which step the loop is in. For example:"
   ]
  },
  {
   "cell_type": "code",
   "execution_count": null,
   "metadata": {},
   "outputs": [],
   "source": [
    "for step,name in enumerate(students):\n",
    "  print(step, name)\n",
    "  time.sleep(0.5)"
   ]
  },
  {
   "cell_type": "markdown",
   "metadata": {
    "id": "Zg_9eGZibK6o"
   },
   "source": [
    "There are some useful functions within Python and Numpy that can help you construct interesting loops, and do powerful things within the loops. Some of the functions you might need for constructing loops are:\n",
    "\n",
    "* `np.arange(arg1,arg2)` -- This will generate a numpy array with integer values that go from arg1 to arg2 (excluding arg2). So `np.arange(0,5)` will produce a numpy array that contains [0,1,2,3,4]\n",
    "* `np.linspace(arg1,arg2,arg3)` -- This will create a numpy array that spans from arg1 to arg2, with equally spaced steps and a total number of values equal to arg3. So, for example, `np.linspace(3,4,3)` will produce a numpy array that contains [3, 3.5, 4].\n",
    "\n",
    "When inside the loop, you will often be creating new results that you want to store. In that case, you may find the following useful --\n",
    "\n",
    "Methods:\n",
    "* on a list obj, `obj.append()` -- This will add a new entry to the end of an existing list.\n",
    "\n",
    "Functions:\n",
    "* `np.append(arg1,arg2,axis=#)` -- This will combine two numpy arrays along a defined axis. If you are calculating a single number in each loop, and you need to add it to the end of an existing array, this is the best way to do it.\n",
    "* `np.concatenate(arg1,axis=#)` -- This operates in a very similar way to np.append, but your first argument can contain as many numpy arrays as you want to combine. They would arg1 should take the form `(arr1,arr2,arr3,...)`\n",
    "\n",
    "See the loop below for an example of both arange and append:"
   ]
  },
  {
   "cell_type": "code",
   "execution_count": null,
   "metadata": {
    "id": "Y8wwans5JT5I"
   },
   "outputs": [],
   "source": [
    "import numpy as np\n",
    "\n",
    "students=['Angelina','Carley', 'Caroline', 'Colin', 'Conrad', 'Dalya', 'Devin', 'Ellen', 'Isabelle', 'Jonah', 'Kate','Kyler','Nathan','Petra','Rana','Rilla']\n",
    "\n",
    "new_array=np.array([])\n",
    "new_list = []\n",
    "\n",
    "for steps,names in enumerate(students):\n",
    "    new_array = np.append(new_array,steps)\n",
    "    new_list.append(steps)\n",
    "    print(names)\n",
    "\n",
    "print(' ')\n",
    "print('Here are our new variables')\n",
    "print('----------------------------------')\n",
    "print(new_array)\n",
    "print(new_list)"
   ]
  },
  {
   "cell_type": "markdown",
   "metadata": {
    "id": "NtqIyBNtZiDk",
    "tags": []
   },
   "source": [
    "#### Exercise 3\n",
    "\n",
    "---\n",
    "\n",
    "To demonstrate the power of loops, I want you to build the following: In the first loop, I want you to generate a new array, `y`. `y`'s first value should be equal to 625. In each iteration of the loop, I want you to calculate the square root of the last value of y, and append the new result to the end. Repeat this process 20 times, and plot the resulting values.\n"
   ]
  },
  {
   "cell_type": "code",
   "execution_count": null,
   "metadata": {},
   "outputs": [],
   "source": []
  },
  {
   "cell_type": "markdown",
   "metadata": {
    "tags": []
   },
   "source": [
    "---\n",
    "\n",
    "## 4. Conditionals\n",
    "\n",
    "Conditional statements, as per their name, test for the truth of a giving expression. Are two things equal? Is one greater than the other? Is the object a particular size? These are very useful for finding values of interest -- maybe you only care about numbers greater than 100 in an array. Conditional statements allow you to find them and manipulate them easily. One of the ways conditionals are used is to define a subset of code that should only be executed under certain circumstances. To do that, you start by defining a conditional statement, and then there will be a block of code that follows (that is uniformly indented) that will only run if the conditional statement evaluates to `true`. Here is a general breakdown of the syntax:\n",
    "\n",
    "* `if [conditional statement]:` -- this is the standard opening to a conditional, where the statement to be tested is supplied (we will describe how to do that more fully in a moment). If the statement evaluates to `true`, then the code block that follows will execute.\n",
    "* `elif [conditional statement]:` -- if the conditional statment provided with `if` evaluetes to `false`, then the code will move on to test the conditional provided with `elif` (short for else-if). If the new conditional statement evalutes to `true`, then the code block that follows will execute.\n",
    "* `else:` -- This is the last resort option. If none of the preceeding conditional evaluated to `true`, the code that follows `else` will run.\n",
    "\n",
    "Some of the common things tested in conditional statements are the following:\n",
    "\n",
    "* `a == b`: this tests if the two values are equivalent\n",
    "* `a > b`: this tests if `a` is greater than `b`\n",
    "* `a <= b`: this tests if `a` is less than or equal to `b`\n",
    "* `a in b`: this tests if `a` exists within a list of objects, stored in `b`\n",
    "\n",
    "Execute the following conditional statements below and make sure you understand what each is doing. You may have to use your tools for identifying a function to figure out exactly what is happening:"
   ]
  },
  {
   "cell_type": "code",
   "execution_count": null,
   "metadata": {},
   "outputs": [],
   "source": [
    "import numpy as np\n",
    "\n",
    "x = [1,2,3,4,5,6,7]\n",
    "\n",
    "for i in x:\n",
    "    if np.mod(i,2) == 0:\n",
    "        print(i)"
   ]
  },
  {
   "cell_type": "code",
   "execution_count": null,
   "metadata": {},
   "outputs": [],
   "source": [
    "a = 'Nick'\n",
    "b = ['Sophia','Fiona','Ruth','Nick'];\n",
    "\n",
    "if a in b:\n",
    "    print(a+' is in the list!')\n",
    "else:\n",
    "    print(a+' is not in the list.')"
   ]
  },
  {
   "cell_type": "markdown",
   "metadata": {
    "id": "NtqIyBNtZiDk",
    "tags": []
   },
   "source": [
    "#### Exercise 4\n",
    "\n",
    "---\n",
    "\n",
    "Come up with a loop that iterates through the values between 1 and 100, that does the following:\n",
    "* prints the phrase \"This value is less than 33\" when the step of the loop has a value less than 33\n",
    "* prints the value when it is greater than or equal to 33 and less than 50\n",
    "* prints \"This value is greater than or equal to 50\" when the value is greater than or equal to 50\n"
   ]
  },
  {
   "cell_type": "code",
   "execution_count": null,
   "metadata": {},
   "outputs": [],
   "source": []
  },
  {
   "cell_type": "code",
   "execution_count": null,
   "metadata": {
    "id": "c_bmzbllgySK"
   },
   "outputs": [],
   "source": [
    "\n",
    "\n"
   ]
  }
 ],
 "metadata": {
  "anaconda-cloud": {},
  "colab": {
   "collapsed_sections": [],
   "name": "Exercise3.ipynb",
   "provenance": [
    {
     "file_id": "1HclR5LOV5Bn-NZDZyIir59aYg_cKIkeJ",
     "timestamp": 1653336762456
    }
   ]
  },
  "kernelspec": {
   "display_name": "Python 3 (ipykernel)",
   "language": "python",
   "name": "python3"
  },
  "language_info": {
   "codemirror_mode": {
    "name": "ipython",
    "version": 3
   },
   "file_extension": ".py",
   "mimetype": "text/x-python",
   "name": "python",
   "nbconvert_exporter": "python",
   "pygments_lexer": "ipython3",
   "version": "3.8.10"
  },
  "widgets": {
   "application/vnd.jupyter.widget-state+json": {
    "state": {},
    "version_major": 2,
    "version_minor": 0
   }
  }
 },
 "nbformat": 4,
 "nbformat_minor": 4
}

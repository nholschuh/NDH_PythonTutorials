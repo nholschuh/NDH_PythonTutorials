{
 "cells": [
  {
   "cell_type": "markdown",
   "id": "backed-circumstances",
   "metadata": {},
   "source": [
    "# Plotting a Radar Image\n",
    "\n",
    "---\n",
    "Radar data are usually structured as a 2D image, which we describe in terms of the two axis of variability: \"fast-time\" and \"slow-time\":\n",
    "* Slow Time: As the radar instrument is driven or flown over a glacier, it sends out electromagnetic pulses ~10,000 times per second (or every $10^{-4}$ seconds). The exact rate at which pulses are transmitted is defined by the instrument's \"PRF\", or pulse-repeitition frequency. Each column of pixels in a radar image represents a new radar pulse. Thus, the x-axis of the image is called the \"slow-time\" axis, as the time between adjacent pixels is > ~$10^{-4}$ seconds.\n",
    "* Fast Time: After a pulse is generated, the radar instrument measures the strength of the electric field over time. The radar has to take lots of measurements of the field strength very quickly to capture the returning wave, because the speed of light in ice is ~168,000,000 m/s (and ~300,000,000 m/s in air). So, it measures the electric field strength about once every 10 nanoseconds ($10^{-8}$ s, or the \"sample rate\") over a period of about 10 microseconds ($10^{-5}$ s), and stores those values. Because the time between pixels above and below an observation is about 10,000 times shorter than the time between pixels to the left and right, the y axis is called the \"fast-time\" axis. \n",
    "\n",
    "Let's load in some data, calculate the sample rate, and look at an image."
   ]
  },
  {
   "cell_type": "code",
   "execution_count": 1,
   "id": "pointed-norwegian",
   "metadata": {},
   "outputs": [],
   "source": [
    "### sys and glob are useful tools for dealing with the local filesystem.\n",
    "import glob\n",
    "\n",
    "### numpy and matplotlib are the core analysis packages for manipulating and plotting data arrays\n",
    "import matplotlib.pyplot as plt\n",
    "import numpy as np\n",
    "\n",
    "import sys\n",
    "sys.path.append('/mnt/data01/Code/')\n",
    "import NDH_Tools as ndh"
   ]
  },
  {
   "cell_type": "code",
   "execution_count": 78,
   "id": "238fbcaa-d3a6-4759-9b52-312e06e328a5",
   "metadata": {},
   "outputs": [
    {
     "data": {
      "text/plain": [
       "'/mnt/data01/Data/RadarData/Antarctica/2018_Antarctica_DC8/CSARP_standard/20181010_02/Data_20181010_02_011.mat'"
      ]
     },
     "execution_count": 78,
     "metadata": {},
     "output_type": "execute_result"
    }
   ],
   "source": [
    "### Find and read the radar data file\n",
    "year='2018'\n",
    "cont='Antarctica'\n",
    "dateframe='20181010_02'\n",
    "seg = 11;\n",
    "\n",
    "data_folder = '/mnt/data01/Data/RadarData/'+cont+'/'+year+'_'+cont+'*/CSARP_standard/'+dateframe+'/'\n",
    "fns = sorted(glob.glob(data_folder+'Data_'+dateframe[0]+'*.mat'))\n",
    "fn = fns[seg-1]\n",
    "fn"
   ]
  },
  {
   "cell_type": "code",
   "execution_count": 10,
   "id": "52809dbc-ef28-4e50-92b7-6ae4a4f15bd0",
   "metadata": {},
   "outputs": [
    {
     "data": {
      "text/plain": [
       "dict_keys(['Bottom', 'Data', 'Elevation', 'GPS_time', 'Heading', 'Latitude', 'Longitude', 'Pitch', 'Roll', 'Surface', 'Time', 'file_version', 'param_array', 'param_records', 'param_sar'])"
      ]
     },
     "execution_count": 10,
     "metadata": {},
     "output_type": "execute_result"
    }
   ],
   "source": [
    "radar_data = ndh.loadmat(fn);\n",
    "## Let's see what the structure of this dictionary is:\n",
    "radar_data.keys()"
   ]
  },
  {
   "cell_type": "markdown",
   "id": "outside-operations",
   "metadata": {},
   "source": [
    "<br><br>\n",
    "\n",
    "We can start by looking at the slow-time axis -- there are several keys that capture information in slow-time:\n",
    "* `GPS_time`, which tells you about the time associated with each pulse\n",
    "* `Latitude`, which tells you the latitude of acquisition for each pulse\n",
    "* `Longitude`, which tells you the longitude of acquisition for each pulse\n",
    "\n",
    "We can see that the shapes of all of these variables are the same, and we can calculate the pulse-repitition frequency.\n"
   ]
  },
  {
   "cell_type": "code",
   "execution_count": 12,
   "id": "historical-thanksgiving",
   "metadata": {},
   "outputs": [
    {
     "name": "stdout",
     "output_type": "stream",
     "text": [
      "(1, 3335) (1, 3335) (1, 3335)\n",
      "0.12607908248901367\n"
     ]
    }
   ],
   "source": [
    "print(radar_data['GPS_time'].shape, radar_data['Latitude'].shape, radar_data['Longitude'].shape)\n",
    "print(radar_data['GPS_time'][0,1]-radar_data['GPS_time'][0,0])"
   ]
  },
  {
   "cell_type": "markdown",
   "id": "buried-nevada",
   "metadata": {},
   "source": [
    "<br>\n",
    "Now let's look at the fast-time axis.  "
   ]
  },
  {
   "cell_type": "code",
   "execution_count": 17,
   "id": "anonymous-plain",
   "metadata": {},
   "outputs": [
    {
     "name": "stdout",
     "output_type": "stream",
     "text": [
      "(1,)\n",
      "[2.e-08]\n"
     ]
    }
   ],
   "source": [
    "cice = 168000000\n",
    "depth = radar_data['Time'][0]/2*cice\n",
    "\n",
    "print(radar_data['Time'][0].shape)\n",
    "print(radar_data['Time'][1]-radar_data['Time'][0])"
   ]
  },
  {
   "cell_type": "markdown",
   "id": "prepared-queensland",
   "metadata": {},
   "source": [
    "<br>\n",
    "Now, given the number of samples in fast time and the number of samples in slow time, we can verify that the radar image is the shape that we expect:"
   ]
  },
  {
   "cell_type": "code",
   "execution_count": 18,
   "id": "patient-banking",
   "metadata": {},
   "outputs": [
    {
     "name": "stdout",
     "output_type": "stream",
     "text": [
      "(3154, 3335)\n"
     ]
    }
   ],
   "source": [
    "print(radar_data['Data'].shape)"
   ]
  },
  {
   "cell_type": "markdown",
   "id": "stainless-fighter",
   "metadata": {},
   "source": [
    "<br><br>\n",
    "\n",
    "So let's go about plotting this data set. As a first step, I often convert the time axes to distance and depth axes. For that, we have to convert Latitude and Longitude to x and y coordinates, and use those to calculate the distance along the line. This is just an application of the Pythagorean Theorem, done below."
   ]
  },
  {
   "cell_type": "code",
   "execution_count": 27,
   "id": "26e99f71-7816-42e9-800d-35df33e33c07",
   "metadata": {},
   "outputs": [],
   "source": [
    "xy = ndh.polarstereo_fwd(radar_data['Latitude'][0],radar_data['Longitude'][0])\n",
    "distance = ndh.distance_vector(xy['x'],xy['y'])"
   ]
  },
  {
   "cell_type": "markdown",
   "id": "plain-postcard",
   "metadata": {},
   "source": [
    "<br><br> \n",
    "Then, we need to calculate the \"depth\" axis. We convert time-after-transmit-pulse (`radar_data['Time']`) to distance below the instrument (the \"range\") using the speed of light. Because these radar data were collected from a plane, the light propagates through both air and ice, which have different speeds of light. While it is imperfect, we will calculate the range using only the speed of light in ice. When plotted, the y axis generated can be used to interpret ice thickness this way."
   ]
  },
  {
   "cell_type": "code",
   "execution_count": 72,
   "id": "atomic-breach",
   "metadata": {},
   "outputs": [],
   "source": [
    "depthdata = ndh.elevation_shift(radar_data['Data'],radar_data['Time'],radar_data['Surface'][0],radar_data['Elevation'][0],radar_data['Bottom'][0])"
   ]
  },
  {
   "cell_type": "markdown",
   "id": "brief-poison",
   "metadata": {},
   "source": [
    "<br><br><br>\n",
    "Finally, we can produce the image. The radar data represents an \"amplitude\" image -- a measure of the peak-to-trough variability in the strength of the electromagnetic field. Because there are exponential losses in amplitude with wave propagation, it is often better to look at the data on a logarithmic scale. So, we oven square the data (converting from \"amplitude\" to \"power\") and take the log_10 (which changes our units to decibels, dB).\n"
   ]
  },
  {
   "cell_type": "code",
   "execution_count": 43,
   "id": "b61e82f8-f6e6-492f-acea-5c5d3f9f8ad6",
   "metadata": {},
   "outputs": [],
   "source": [
    "%matplotlib ipympl"
   ]
  },
  {
   "cell_type": "code",
   "execution_count": 71,
   "id": "outside-architect",
   "metadata": {},
   "outputs": [
    {
     "data": {
      "application/vnd.jupyter.widget-view+json": {
       "model_id": "0b1f3c87320346efa96bc720b7b9740d",
       "version_major": 2,
       "version_minor": 0
      },
      "text/plain": [
       "Canvas(toolbar=Toolbar(toolitems=[('Home', 'Reset original view', 'home', 'home'), ('Back', 'Back to previous …"
      ]
     },
     "metadata": {},
     "output_type": "display_data"
    }
   ],
   "source": [
    "fig = plt.figure(figsize=(15,7))\n",
    "imdata = plt.imshow(np.log10(depthdata['new_data']**2),extent=[distance[0]/1000,distance[-1]/1000,depthdata['depth_axis'][0],depthdata['depth_axis'][-1]],origin='lower',aspect='auto',cmap='gray',vmin=-35,vmax=-5)\n",
    "ax = plt.gca()\n",
    "ax.invert_yaxis()\n",
    "\n",
    "plt.xlabel('Distance (km)')\n",
    "plt.ylabel('Elevation (m)')\n",
    "fig.colorbar(imdata)\n",
    "\n",
    "markers = np.round(np.linspace(0,len(distance)-1,6)).astype('int')\n",
    "\n",
    "for i in markers:\n",
    "    plt.axvline(distance[i]/1000,c='red')"
   ]
  },
  {
   "cell_type": "code",
   "execution_count": 66,
   "id": "closing-basis",
   "metadata": {},
   "outputs": [],
   "source": [
    "import rioxarray as rxr\n",
    "hs = rxr.open_rasterio('/mnt/data01/Data/Antarctic_Imagery/REMA_200m_hillshade.nc')"
   ]
  },
  {
   "cell_type": "code",
   "execution_count": 69,
   "id": "60ef9f1a-3947-46f0-bc0b-8e5f423edd7b",
   "metadata": {},
   "outputs": [
    {
     "data": {
      "application/vnd.jupyter.widget-view+json": {
       "model_id": "14336da8852e4e9495159417dc4ca345",
       "version_major": 2,
       "version_minor": 0
      },
      "text/plain": [
       "Canvas(toolbar=Toolbar(toolitems=[('Home', 'Reset original view', 'home', 'home'), ('Back', 'Back to previous …"
      ]
     },
     "metadata": {},
     "output_type": "display_data"
    },
    {
     "data": {
      "text/plain": [
       "[<matplotlib.lines.Line2D at 0x7f5a99525340>]"
      ]
     },
     "execution_count": 69,
     "metadata": {},
     "output_type": "execute_result"
    }
   ],
   "source": [
    "spacing = 50000\n",
    "\n",
    "xs = [xy['x'].min()-spacing,xy['x'].max()+spacing]\n",
    "ys = [xy['y'].min()-spacing,xy['y'].max()+spacing]\n",
    "\n",
    "subset_slices = {'x':slice(xs[0],xs[1]),'y':slice(ys[1],ys[0])}\n",
    "\n",
    "hs_sub = hs.sel(subset_slices)\n",
    "\n",
    "plt.figure()\n",
    "hs_sub[0,:,:].plot.imshow(cmap='gray')\n",
    "plt.plot(xy['x'],xy['y'],c='blue')\n",
    "\n",
    "plt.plot(xy['x'][markers],xy['y'][markers],'o',c='red')"
   ]
  },
  {
   "cell_type": "code",
   "execution_count": null,
   "id": "f856e841-d744-43e8-9347-53a103d5c0ce",
   "metadata": {},
   "outputs": [],
   "source": []
  }
 ],
 "metadata": {
  "kernelspec": {
   "display_name": "Python 3 (ipykernel)",
   "language": "python",
   "name": "python3"
  },
  "language_info": {
   "codemirror_mode": {
    "name": "ipython",
    "version": 3
   },
   "file_extension": ".py",
   "mimetype": "text/x-python",
   "name": "python",
   "nbconvert_exporter": "python",
   "pygments_lexer": "ipython3",
   "version": "3.8.10"
  },
  "widgets": {
   "application/vnd.jupyter.widget-state+json": {
    "state": {},
    "version_major": 2,
    "version_minor": 0
   }
  }
 },
 "nbformat": 4,
 "nbformat_minor": 5
}

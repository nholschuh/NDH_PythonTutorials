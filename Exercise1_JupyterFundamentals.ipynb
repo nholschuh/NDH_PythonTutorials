{
 "cells": [
  {
   "cell_type": "markdown",
   "metadata": {
    "id": "VPezz3cVuTg0"
   },
   "source": [
    "*This was adapted from Kate Folette and Connor Robinson's SURF Introduction, which itself includes material adapted from [Mark Krumholz's public course notes](https://sites.google.com/a/ucsc.edu/krumholz/teaching-and-courses/)*"
   ]
  },
  {
   "cell_type": "markdown",
   "metadata": {
    "id": "ubs5PK9muTg1"
   },
   "source": [
    "# Exercise 1:  The Structure of Jupyter and Python Fundamentals\n",
    "\n",
    "1. Jupyter \n",
    "   * Jupyter Intro\n",
    "   * Jupyter cautions\n",
    "2. Using Python as a calculator\n",
    "3. Variables\n",
    "   \n",
    "*You'll encounter exercises throughout these notebooks designt to help you test your understanding. Work through them, and if you're struggling, chat with your neighbors! If together you're still having trouble finding a solution, feel free to send me a slack message or stop by my office.*\n",
    "\n",
    "### 1.1 Jupyter Intro\n",
    "\n",
    "For most of your work, you will be using a piece of software called \"Jupyter Hub\" -- it is an interface that allows you to both develop code, take notes, and interface with the filesystem of a computer. If you're seeing this notebook, you've already taken the first step in using Jupyter on my remote computer, but I include a brief video here that will introduce the structure of the Jupyter hub and give you a sense for how you can connect if you ever are off campus and want to continue with your work.\n",
    "\n",
    "To view the video, simply hit **Shift+Enter** after clicking on the following cell. This will be a common refrain; **Shift+Enter** is used to execute code in a jupyter notebook, and then automatically advance you to the next cell in line."
   ]
  },
  {
   "cell_type": "code",
   "execution_count": 22,
   "metadata": {
    "tags": [
     "hide_input"
    ]
   },
   "outputs": [
    {
     "data": {
      "image/jpeg": "[encoded data removed]",
      "text/html": [
       "\n",
       "        <iframe\n",
       "            width=\"1000\"\n",
       "            height=\"600\"\n",
       "            src=\"https://www.youtube.com/embed/RAZl3myAYOg\"\n",
       "            frameborder=\"0\"\n",
       "            allowfullscreen\n",
       "        ></iframe>\n",
       "        "
      ],
      "text/plain": [
       "<IPython.lib.display.YouTubeVideo at 0x7f1464460c10>"
      ]
     },
     "execution_count": 22,
     "metadata": {},
     "output_type": "execute_result"
    }
   ],
   "source": [
    "from IPython.display import YouTubeVideo\n",
    "YouTubeVideo('RAZl3myAYOg', width=1000, height=600)"
   ]
  },
  {
   "cell_type": "markdown",
   "metadata": {
    "id": "ubs5PK9muTg1"
   },
   "source": [
    "Jupyter notebooks have two kinds of cells. Markdown cells like this one have no labeling to the left of the cell, and, when executed, appear as ordinary text. Code cells like the one below have `[ ]:` printed to the side of them and, when executed, a number appears inside of the brackets. To execute a cell of either type in Jupyter, hit shift + enter inside of that cell. Try it by double clicking on this cell and hitting shift + enter, and then do the same with the code cell below. Note that a markdown cell becomes pure text when you execute it, while a code cell spits out some output labelled `[#]:`."
   ]
  },
  {
   "cell_type": "code",
   "execution_count": null,
   "metadata": {
    "colab": {
     "base_uri": "https://localhost:8080/"
    },
    "executionInfo": {
     "elapsed": 6,
     "status": "ok",
     "timestamp": 1654535081419,
     "user": {
      "displayName": "Adrian Friedman",
      "userId": "01068848865470022882"
     },
     "user_tz": 240
    },
    "id": "kqH06hy3uTg2",
    "outputId": "71a1f08e-30f2-4202-efd0-a8a8c3c15f84"
   },
   "outputs": [],
   "source": [
    "1+2"
   ]
  },
  {
   "cell_type": "markdown",
   "metadata": {
    "id": "Bt76-LOLuTg6"
   },
   "source": [
    "The guts of Jupyter is the coding language Python, and any and all Python syntax will work inside of code cells. However, Jupyter code cells also have some extra capabilities, which we will talk about as needed in the future.\n",
    "\n",
    "A key feature of Jupyter is that it integrates markdown (instructions/notes), code ***and*** output all in the same document. For this reason, many scientists, including myself, use Jupyter as a sort of lab notebook rather than maintaining lab notes, code, and code output all in separate documents. \n"
   ]
  },
  {
   "cell_type": "markdown",
   "metadata": {
    "id": "qrQEcV9ouTg7"
   },
   "source": [
    "<div class=hw>\n",
    "\n",
    "### Exercise 1\n",
    "-------------\n",
    "\n",
    "Using the resources below, respond to the following prompts below. These will give you a chance to practice some common cell operations.\n",
    "\n",
    "<div class=\"alert alert-block alert-info\">\n",
    "<b>Note:</b> The two links below contain useful keyboard shortcuts for JupyterHub and syntax for markdown. Take a look at them before you continue.<br>\n",
    "    \n",
    "----- [Here is a set of keyboard shortcuts](https://gist.github.com/discdiver/9e00618756d120a8c9fa344ac1c375ac) for JupyterHub (which allow you to manipulate/modify/run cells). <br>\n",
    "----- [Here is a reference guide](https://www.ibm.com/docs/en/watson-studio-local/1.2.3?topic=notebooks-markdown-jupyter-cheatsheet) that describes syntax for the markdown language (which allows you to format text). \n",
    "</div>\n"
   ]
  },
  {
   "cell_type": "code",
   "execution_count": null,
   "metadata": {
    "id": "Mp7tv6RDuTg8"
   },
   "outputs": [],
   "source": [
    "# a. Change this cell to a markdown cell"
   ]
  },
  {
   "cell_type": "code",
   "execution_count": null,
   "metadata": {
    "id": "1uTxNg-tNE0r"
   },
   "outputs": [],
   "source": []
  },
  {
   "cell_type": "markdown",
   "metadata": {
    "id": "Qd02RRmPuTg_"
   },
   "source": [
    "<div class=hw>\n",
    "b. Insert a blank code cell above this one, and one below as well."
   ]
  },
  {
   "cell_type": "code",
   "execution_count": null,
   "metadata": {
    "id": "y9ja5Xv9NFUL"
   },
   "outputs": [],
   "source": []
  },
  {
   "cell_type": "markdown",
   "metadata": {
    "id": "CGzbwxzpuThA"
   },
   "source": [
    "<div class=hw>\n",
    "c. Split the cell below in between the two operations so that each appears in its own separate cell, and then execute both cells. "
   ]
  },
  {
   "cell_type": "code",
   "execution_count": null,
   "metadata": {
    "colab": {
     "base_uri": "https://localhost:8080/"
    },
    "executionInfo": {
     "elapsed": 130,
     "status": "ok",
     "timestamp": 1654538932840,
     "user": {
      "displayName": "Adrian Friedman",
      "userId": "01068848865470022882"
     },
     "user_tz": 240
    },
    "id": "EDf-LUUouThA",
    "outputId": "9c2a6b31-2bfc-4c1f-f916-a038e8b0571d"
   },
   "outputs": [],
   "source": [
    "1+2\n"
   ]
  },
  {
   "cell_type": "code",
   "execution_count": null,
   "metadata": {
    "colab": {
     "base_uri": "https://localhost:8080/"
    },
    "executionInfo": {
     "elapsed": 113,
     "status": "ok",
     "timestamp": 1654538933974,
     "user": {
      "displayName": "Adrian Friedman",
      "userId": "01068848865470022882"
     },
     "user_tz": 240
    },
    "id": "xwgWH6pONIgX",
    "outputId": "47f105d7-823a-4c97-a64e-7961d1773836"
   },
   "outputs": [],
   "source": [
    "1+3"
   ]
  },
  {
   "cell_type": "markdown",
   "metadata": {
    "id": "TNfhjq6XuThD"
   },
   "source": [
    "<div class=hw>\n",
    "d. Delete the cell below"
   ]
  },
  {
   "cell_type": "code",
   "execution_count": null,
   "metadata": {},
   "outputs": [],
   "source": []
  },
  {
   "cell_type": "markdown",
   "metadata": {
    "id": "DSc_JHdFuThE"
   },
   "source": [
    "e. Make this text italic.\n",
    "\n",
    "f. Make this text bold.\n",
    "\n",
    "g. Make this text bold and italic.\n",
    "\n",
    "h. Make this a heading"
   ]
  },
  {
   "cell_type": "markdown",
   "metadata": {
    "id": "11bt9lkzuThE"
   },
   "source": [
    "There are obviously lots of other things that you can do, but these are the basics that you'll use the most often.\n",
    "\n",
    "---\n",
    "\n",
    "## 2. Using jupyter as a calculator\n",
    "\n",
    "In Jupyter notebooks, every cell is a command prompt into which we can enter python commands. One very basic way to use python is as a calculator.\n",
    "\n",
    "Python knows the basic arithmetic operations plus (+), minus (-), times (\\*), divide (/), and raise to a power (\\**).\n",
    "\n",
    "Execute all of the cells below and make sure that you understand what they're doing before moving on."
   ]
  },
  {
   "cell_type": "code",
   "execution_count": null,
   "metadata": {
    "colab": {
     "base_uri": "https://localhost:8080/"
    },
    "executionInfo": {
     "elapsed": 179,
     "status": "ok",
     "timestamp": 1630178130427,
     "user": {
      "displayName": "William Loinaz",
      "photoUrl": "",
      "userId": "03083183595543215532"
     },
     "user_tz": 240
    },
    "id": "HkDr-CyiuThF",
    "outputId": "dbb08b6c-8242-4408-ef56-72ddb502e14b"
   },
   "outputs": [],
   "source": [
    "2+3"
   ]
  },
  {
   "cell_type": "code",
   "execution_count": null,
   "metadata": {
    "id": "cmlNnH4suThH"
   },
   "outputs": [],
   "source": [
    "2*3"
   ]
  },
  {
   "cell_type": "code",
   "execution_count": null,
   "metadata": {
    "id": "HQ01yOnCuThK"
   },
   "outputs": [],
   "source": [
    "2-3"
   ]
  },
  {
   "cell_type": "code",
   "execution_count": null,
   "metadata": {
    "id": "yUAWzRifuThM"
   },
   "outputs": [],
   "source": [
    "2/3"
   ]
  },
  {
   "cell_type": "code",
   "execution_count": null,
   "metadata": {
    "id": "kzmAi1uKuThP"
   },
   "outputs": [],
   "source": [
    "2**3"
   ]
  },
  {
   "cell_type": "markdown",
   "metadata": {
    "id": "e2QtFq_uuThR"
   },
   "source": [
    "It also understands parentheses, and follows the normal rules for order of operations:"
   ]
  },
  {
   "cell_type": "code",
   "execution_count": null,
   "metadata": {
    "id": "7KE27HWVuThR"
   },
   "outputs": [],
   "source": [
    "1+2*3"
   ]
  },
  {
   "cell_type": "code",
   "execution_count": null,
   "metadata": {
    "id": "kNDaJP30uThT"
   },
   "outputs": [],
   "source": [
    "1+2**3"
   ]
  },
  {
   "cell_type": "code",
   "execution_count": null,
   "metadata": {
    "id": "r6mHVa59uThW"
   },
   "outputs": [],
   "source": [
    "(1+2)*3"
   ]
  },
  {
   "cell_type": "markdown",
   "metadata": {
    "id": "swjt1GyguTha"
   },
   "source": [
    "<div class=hw>\n",
    "\n",
    "### Exercise 2\n",
    "-------------\n",
    "\n",
    "Execute the calculations shown below in python. Use the code cells below each expression.\n",
    "\n",
    "x = 2.5x10$^4$   \n",
    "y = 8.1x10$^3$\n",
    "\n",
    "a. $x+y$  "
   ]
  },
  {
   "cell_type": "code",
   "execution_count": null,
   "metadata": {
    "id": "_ECsyMmHuTha"
   },
   "outputs": [],
   "source": []
  },
  {
   "cell_type": "markdown",
   "metadata": {
    "id": "XblRscRIuThd"
   },
   "source": [
    "<div class=hw>\n",
    "b. $x^3$  "
   ]
  },
  {
   "cell_type": "code",
   "execution_count": null,
   "metadata": {
    "id": "WfFm9NKmuThd"
   },
   "outputs": [],
   "source": []
  },
  {
   "cell_type": "markdown",
   "metadata": {
    "id": "iHMpIKsruThg"
   },
   "source": [
    "<div class=hw>\n",
    "c. $\\sqrt{y}$  "
   ]
  },
  {
   "cell_type": "code",
   "execution_count": null,
   "metadata": {
    "id": "78tIGBKHuThh"
   },
   "outputs": [],
   "source": []
  },
  {
   "cell_type": "markdown",
   "metadata": {
    "id": "FRawHkrQuThj"
   },
   "source": [
    "<div class=hw>\n",
    "d. $\\frac{3x+y^2}{2}$"
   ]
  },
  {
   "cell_type": "code",
   "execution_count": null,
   "metadata": {
    "id": "67ggzCFjuThk"
   },
   "outputs": [],
   "source": []
  },
  {
   "cell_type": "markdown",
   "metadata": {
    "id": "afMngzfjuThm"
   },
   "source": [
    "---\n",
    "\n",
    "## 3. Objects and Variables:\n",
    "\n",
    "In the expressions above, you provided python a series of numbers and operations which got combined to produce an output. For the last part of this Exercise, we are going to think about those numbers in a more abstract, computer science way. To do that, we need to define a few useful computer science terms:\n",
    "\n",
    "* **object:** these are the fundamental building blocks of python -- for now, we are going to think about them as a little container filled with data. This is an incomplete definition, objects are really much more than just data, but we are going to start here and build up a fuller concept of an \"object\" in the next few exercises.\n",
    "* **variable:** variables are a symbolic name that we give to an object.\n",
    "\n",
    "Whenever you issue a command to python, it goes to something called the \"python interpreter\", which tries to make sense of what you've given it. When receiving new inputs, python goes to its list of known objects and functions and tries to figure out what we, as the user, are asking it to do. When you simply give python numbers as you did above (e.g., `3 + 5`) python knows that you want to create an object containing 3, an object containing 5, and you want to combine them to produce an object containing 8. When performing math this way, the 3, the 5, and the 8 are transient; the 3 and 5 objects come into existence, they are used in the operation, and then they are gone. The 8 is provided as output, but then it too is gone. If we want those objects to persist so we can reference them again in the future, we have to give them a name. This processes is called **\"defining a variable\"**, in which we assign an object a name that we can reference again in the future. We use `=` to define variables, as follows:\n",
    "    \n",
    "`a = 3`\n",
    "    \n",
    "`b = 5`\n",
    "\n",
    "`c = a + b`\n",
    "\n",
    "There's a subtle but important point to notice here, which is the meaning of the equal sign. In mathematics, the statement that a = b is a statement that two things are equal, and it can be either true or false. In python, as in almost all other programming languages, `a = b` means something different. It means that object `a` should be made identical to object `b`. Below, we will make the statement `a = a + 1`; this is not an assertion that a is equal to itself plus one (which is obviously false). It is an instruction to the computer to take the variable a, add 1 to it, and then store the result back into the variable a. If a started as 4, this operation changes the value of a from 4 to 5. It is important note that, unlike in mathematics, the order of the terms (which term is to the left of the equals and which is to the right) matters: a = b and b = a will have very different effects. The first one causes the computer to forget whatever is stored in a and replace it by whatever is stored in b. The second statement has the opposite effect: the computer forgets what is stored in b, and replaces it by whatever is stored in a.\n",
    "\n",
    "Execute each of the cells below and make sure you understand the output:"
   ]
  },
  {
   "cell_type": "code",
   "execution_count": null,
   "metadata": {
    "id": "VnN-4fs4uThn"
   },
   "outputs": [],
   "source": [
    "a=4"
   ]
  },
  {
   "cell_type": "code",
   "execution_count": null,
   "metadata": {
    "id": "T2pFhWzRuTho"
   },
   "outputs": [],
   "source": [
    "a+1"
   ]
  },
  {
   "cell_type": "code",
   "execution_count": null,
   "metadata": {
    "id": "7YurMLICuThq"
   },
   "outputs": [],
   "source": [
    "a/2"
   ]
  },
  {
   "cell_type": "code",
   "execution_count": null,
   "metadata": {
    "id": "TrHu0cjquTht"
   },
   "outputs": [],
   "source": [
    "a=a+1"
   ]
  },
  {
   "cell_type": "code",
   "execution_count": null,
   "metadata": {
    "id": "jsHJ4SXuuThv"
   },
   "outputs": [],
   "source": [
    "a"
   ]
  },
  {
   "cell_type": "code",
   "execution_count": null,
   "metadata": {
    "id": "l44Rx6d1uThx"
   },
   "outputs": [],
   "source": [
    "a**2"
   ]
  },
  {
   "cell_type": "code",
   "execution_count": null,
   "metadata": {
    "id": "n8hMGo-FuTh0"
   },
   "outputs": [],
   "source": [
    "a=10**2\n",
    "a"
   ]
  },
  {
   "cell_type": "markdown",
   "metadata": {},
   "source": [
    "\n",
    "### Exercise 3\n",
    "-------------\n",
    "Using two cells below, do the following:\n",
    "* In a single cell, complete the same computations you did in exercise 2, but this time define x and y as variables and store the output to variables. Choose logical variable names for each output.\n",
    "* In the following cell, ask python to display the values of each of your computations using the `print()` command, where within the parentheses you supply the variable name for the object you want to print. You should have 4 separate print statements in that cell."
   ]
  },
  {
   "cell_type": "code",
   "execution_count": null,
   "metadata": {},
   "outputs": [],
   "source": []
  },
  {
   "cell_type": "code",
   "execution_count": null,
   "metadata": {},
   "outputs": [],
   "source": []
  },
  {
   "cell_type": "markdown",
   "metadata": {
    "id": "J1O6J5wCuTh0"
   },
   "source": [
    "\n",
    "<div class=\"alert alert-block alert-warning\">\n",
    "    \n",
    "<b>Jupyter Cautions:</b>\n",
    "\n",
    "You should always keep in mind that ***cells within a Jupyter notebook can be executed and reexecuted in any order*** as this can sometimes get you into trouble. This feature is the reason why an executed code cell is numbered, so that you know what order the cells you see have been executed in. Note that this does not have to be linear from the top to the bottom of the document, but can jump around within it. Often, you will note a mistake or something that you want to try and will go back and change the code in an earlier cell. If you reexecute just this one cell, then any already executed cells that rely on variables defined in the reexecuted cell or its output will ***not*** be automatically updated.  \n",
    "    \n",
    "    \n",
    "The line a=a+1 redefined the variable as one greater than it was before. This is a simple example of how not using a new variable name could get you into trouble (if you were to assume that a was still 4). Note too that lines in which you have defined a variable do not have any output by default. If you want to check that the variable is properly assigned or see its value, you can type the variable name alone on a line below the variable assignment line.\n",
    "</div>\n",
    "\n",
    "### You should observe the following \"best practices\" for coding in notebooks to avoid some of these problems. \n",
    "\n",
    "1. ***When possible, do not reuse variable names*** or you risk getting a nonsense answer when you refer to that variable. There may be some circumstances where you want to define a variable, and then update it but keep the same name. If necessary, make sure that the definition and the update occur in the same cell, so that no matter what order you run the cells in you get the same results.\n",
    "\n",
    "1. Use descriptive variable labels (e.g. if you are storing heights for Thwaites glacier, you might define the variable using `Thw_h = `, or thinking about the surfance elevation, you might use `Thw_s =`) and create a new variable name each time you do a calculation (IE, don't use the variable name \"thickness\" in multiple contexts in the same notebook, append some other identifier to the name, separated by an underscore).  Using \"Pine Island Glacier\" as an example, some common variable name conventions are provided below:\n",
    "    * Ice Thickness: `PIG_h = `\n",
    "    * Ice-sheet Bed Elevation: `PIG_z = `\n",
    "    * Ice Surface Elevation: `PIG_s = `\n",
    "    * Surface velocity (x and y components): `PIG_vx = ` and `PIG_vy = ` (or `PIG_u = ` and `PIG_v = `)\n",
    "\n",
    "\n",
    "2. When you feel as though a notebook may be complete, rerun it from start to finish once, making sure that all of your code output is how you want it. Note that **restarting the kernel will clear the code output, not the code itself**, so you will not be losing your work. To do this, go up to the \"Kernel\" menu and select \"Restart Kernel and Run all Cells\". \n",
    "\n",
    "\n",
    "\n"
   ]
  }
 ],
 "metadata": {
  "anaconda-cloud": {},
  "colab": {
   "collapsed_sections": [
    "nlsI6XimuTil"
   ],
   "name": "Exercise1.ipynb",
   "provenance": [
    {
     "file_id": "19Ldi65AuFvMVg5a5D4Zu5QQOf1PE5iun",
     "timestamp": 1653336730993
    }
   ]
  },
  "kernelspec": {
   "display_name": "Python 3 (ipykernel)",
   "language": "python",
   "name": "python3"
  },
  "language_info": {
   "codemirror_mode": {
    "name": "ipython",
    "version": 3
   },
   "file_extension": ".py",
   "mimetype": "text/x-python",
   "name": "python",
   "nbconvert_exporter": "python",
   "pygments_lexer": "ipython3",
   "version": "3.8.10"
  },
  "widgets": {
   "application/vnd.jupyter.widget-state+json": {
    "state": {},
    "version_major": 2,
    "version_minor": 0
   }
  }
 },
 "nbformat": 4,
 "nbformat_minor": 4
}

{
 "cells": [
  {
   "cell_type": "markdown",
   "id": "5c894ed4-b43d-4a82-a86a-64c4190c83e7",
   "metadata": {
    "tags": []
   },
   "source": [
    "# Exercise 2:  First Steps in Python\n",
    "\n",
    "1. Thinking about object types:\n",
    "    * What types have we been using?\n",
    "    * What are the most fundamental object types in python?\n",
    "    * Objects that store multiple values\n",
    "1. Functions, Methods, and Packages\n",
    "1. Objects that Store Multiple Values\n",
    "    * Python native objects\n",
    "    * Numpy arrays\n",
    "    * Basic indexing\n",
    "1. Advanced Work with Arrays\n",
    "    * Array manipulation\n",
    "    * Multidimensional arrays\n",
    "    * Array attributes\n",
    "    \n",
    "    \n",
    "---\n",
    "\n",
    "## 1. Object Types\n",
    "\n",
    "At its most basic level, the information stored, displayed, and operated on by computers boils down to 0s and 1s. The text on the screen, the color of this box, the pictures we see, and the videos we watch on Netflix, all are \"encoded\" as a combination of 0s and 1s. When we create an object in Python, a critical piece of information about that object (that is mostly handled behind the scenes) is how we should encode it as 0s and 1s. \n",
    "\n",
    "Because Python is an extremely robust language (you can use it for math and data analysis as we are, but you can also use it to build applications, games, and all kinds of other sophisticated things) there is a diversity of objects that people create in Python -- Python needs to know how to think about these different kinds of data, and to do that, each object is assigned a different \"type\". Below, we are going to spend a little bit of time thinking about object types.\n",
    "\n",
    "### 1.1 What types have we been using up to this point?\n",
    "\n",
    "Take for example our simple object below, named `b`. We can ask python to tell us what type of an object we have here in `b`, using the `type()` command."
   ]
  },
  {
   "cell_type": "code",
   "execution_count": null,
   "id": "af723b40-6710-44f0-ba40-6d0dce2c013b",
   "metadata": {
    "id": "aNJMnFxhuTh4"
   },
   "outputs": [],
   "source": [
    "b=5"
   ]
  },
  {
   "cell_type": "code",
   "execution_count": null,
   "id": "e2f88347-80aa-4251-9833-e267d3071ada",
   "metadata": {
    "id": "JPMEZRwIuTh6"
   },
   "outputs": [],
   "source": [
    "type(b)"
   ]
  },
  {
   "cell_type": "markdown",
   "id": "92470559-16bb-46cf-b054-a14014ab2f9d",
   "metadata": {
    "id": "uE3tuAZyuTh8"
   },
   "source": [
    "You can see that the output of that `type()` command was `int`, which stands for integer. Integers are exactly what they sound like -- positive and negative whole numbers. Important to python, integers are really efficiently stored as 0s or 1s. Mostly for your curiousity, I provide a brief aside for how it is numbers are stored by computers.\n",
    "\n",
    "<div class=\"alert alert-block alert-info\">\n",
    "<b>Thinking about \"Binary Storage\" of integers:</b> \n",
    "    \n",
    "First, lets refresh our understanding of our own number system:\n",
    "\n",
    "* The way we represent numbers conventionally is in base 10. Imagine we have 3 digits, \"a\", \"b\", \"c\", where each digit is a value that falls between 0-9. We combine those digits to form a three digit number \"abc\". To understand what that number means, we are actually doing a little bit of math: \n",
    "\n",
    "<div align=center> $a*10^2 + b*10^1 + c*10^0$. </div>\n",
    "\n",
    "* Computers are really just a complex set of switches -- those switches don't have 10 different possible positions (like the values 0-9 that we use for digits in base 10), they only have two possible positions (you can think of them like a 0 or 1). So to store an integer using switches, we define a slightly different rule. Each switch, \"a\", \"b\", and \"c\", has a state that is either a 0 or 1. To get to a number, we do the following math: \n",
    "\n",
    "<div align=center> $a*2^2 + b*2^1 + c*2^0$ </div>\n",
    "\n",
    "The simplest datatype we can have on a computer is what we call an \"8 bit unsigned integer\", or `uint8`. There are three parts to that name:\n",
    "    * Unsigned means we assume it is positive\n",
    "    * Integer means it is a whole number \n",
    "    * 8 bit meaning that it is stored in 8 bits (aka, 8 switches, which we commonly refer to as a \"byte\", like the megabytes and gigabytes we think about when storing data). \n",
    "    \n",
    "We can use that framework to determine the maximum value that can be stored in a `uint8` object:\n",
    "\n",
    "<div align=center> $1*2^7 + 1*2^6 + 1*2^5 + 1*2^4 + 1*2^3 + 1*2^2 + 1*2^1 + 1*2^0$ </div>\n",
    "<div align=center> $128 + 64 + 32 + 16 + 8 + 4 + 2 + 1$ </div>\n",
    "<div align=center> $256$ </div>\n",
    "    \n",
    "So ultimately, in this data type, we can only store numbers between 0 [00000000] and 256 [11111111]. We can store bigger numbers than 256 if we increase the number of bits we are using (i.e. `uint16` or `uint32`), but ultimately there are some values we care about that simply can't be stored as integers. We discuss those below.</div>\n",
    "\n",
    "So, what happens if we are not using whole numbers? How does Python deal with those?"
   ]
  },
  {
   "cell_type": "code",
   "execution_count": null,
   "id": "c48a8fd3-15d6-45b8-8a79-9849f0170c13",
   "metadata": {},
   "outputs": [],
   "source": [
    "b=5.1005"
   ]
  },
  {
   "cell_type": "code",
   "execution_count": null,
   "id": "946379c5-2fa5-48f7-84fb-fee27d10b223",
   "metadata": {},
   "outputs": [],
   "source": [
    "type(b)"
   ]
  },
  {
   "cell_type": "markdown",
   "id": "037b6b7f-94e8-44fc-90d8-3d1b493c883d",
   "metadata": {},
   "source": [
    "You can see that this object comes back with type \"Float\", otherwise known as a floating point number. Almost all of the analysis you will be doing will be using floating point numbers. It is important to note that, because computers cannot store an infinite number of significant figures, computations done using floating point numbers are ultimately approximations. On most computers a python floating point number is accurate to about 1 in 10^15, but this depends on both the architecture and on the operations you perform. That's enough accuracy for many purposes, but there are plenty of situations (for example counting things) when we really want to do things precisely, and we want 1 + 1 to be exactly 2. That's what integers are there for.\n",
    "\n",
    "<div class=\"alert alert-block alert-info\">\n",
    "<b>Thinking about \"Binary Storage\" of floating point numbers:</b> \n",
    "    \n",
    "Floating point numbers can store any real number (of finite size), and they do it using our binary switches in a clever way. Take for example the number above, 5.1005. Just as the computer encoded the integer using binary, floating point numbers use a fixed number of switches to encoding three things:\n",
    "* The first set of switches encode the numbers we need to reproduce our value: 51005\n",
    "* The second set of switches encode a different number, describing where the decimal place goes relative to the far right of our list of digits: 4 \n",
    "* The final switch encodes the sign, where 0 and 1 correspond to positive and negative numbers: 0\n",
    "\n",
    "The computer then recombines that information for us, and says \"Take the number 51005 and put the decimal point four in from the right\", yeilding 5.1005. An important consequence of this form of data storage is that it is just as easy for the computer to store 5100500000, 51.005, and 0.0000051005, it simply stores the string of numbers it needs (51005) and the position of the decimal point.\n",
    "\n",
    "This philosophy underpins all different ways of storing numbers: you use some switches for the values, some switches for the decimal point, and a switch for the sign (+/-).\n",
    "\n",
    "</div>\n",
    "\n",
    "Thinking about types is an important thing to do in general programming, because variable types are not generally reassigned dynamically. So, for example, the operation 5/2 in many languages would yield 2 rather than 2.5 if 5 is an integer (because the output would be forced to be the same types as the input). In our case, however, we are using Python 3, which will automatically convert an integer to a different object type if the natural output is not a whole number, as below:"
   ]
  },
  {
   "cell_type": "code",
   "execution_count": null,
   "id": "33af1582-db0c-4bd4-bca7-3c12fed8884a",
   "metadata": {
    "id": "iswJSZeYuTh8"
   },
   "outputs": [],
   "source": [
    "b = 5\n",
    "type(b)"
   ]
  },
  {
   "cell_type": "code",
   "execution_count": null,
   "id": "0d3c4463-f24c-4d19-8b99-2c1e72c7cc2e",
   "metadata": {},
   "outputs": [],
   "source": [
    "c = b/2\n",
    "c"
   ]
  },
  {
   "cell_type": "code",
   "execution_count": null,
   "id": "a7dcb51a-de22-4647-b2d5-50831d689027",
   "metadata": {},
   "outputs": [],
   "source": [
    "type(c)"
   ]
  },
  {
   "cell_type": "markdown",
   "id": "7ff571fd-7fa1-4f2f-977c-bdc4f4105fe9",
   "metadata": {
    "id": "LFURZux4uTh-"
   },
   "source": [
    "unlike b, b/2 is ***not*** an integer."
   ]
  },
  {
   "cell_type": "markdown",
   "id": "019638f8-7edc-4322-8803-c09ef1e41f41",
   "metadata": {
    "id": "8ECnJnMFuTiG"
   },
   "source": [
    "### 1.2 What are some other important types in Python?\n",
    "\n",
    "A third type of very useful variable is strings, abbreviated str. A string is a sequence of characters, and one can declare that something is a string by putting characters in quotation marks (either \" or ' is fine):"
   ]
  },
  {
   "cell_type": "code",
   "execution_count": null,
   "id": "8d852176-76ba-47b5-b2dd-72debb315529",
   "metadata": {
    "id": "3yE9AWODuTiH"
   },
   "outputs": [],
   "source": [
    "d = \"Glacier\""
   ]
  },
  {
   "cell_type": "code",
   "execution_count": null,
   "id": "1cdb9a63-ddc8-46cc-b731-aac1719d24fc",
   "metadata": {
    "id": "khySj6FHuTiJ"
   },
   "outputs": [],
   "source": [
    "type(d)"
   ]
  },
  {
   "cell_type": "markdown",
   "id": "4b02e5fc-580f-4c9f-8cd3-568c2cd4b6fe",
   "metadata": {
    "id": "gZAbVP-QuTiL"
   },
   "source": [
    "The quotation marks are important in defining a string here. To see why, try issuing the command without them:"
   ]
  },
  {
   "cell_type": "code",
   "execution_count": null,
   "id": "43fd6a68-d42a-4af8-b8fa-10867b1292b0",
   "metadata": {
    "id": "U4FpDaKpuTiL"
   },
   "outputs": [],
   "source": [
    "d = Glacier"
   ]
  },
  {
   "cell_type": "markdown",
   "id": "79b8eeaa-1e77-4996-a821-ede168f95c1a",
   "metadata": {
    "id": "gmJKfDw6uTiN"
   },
   "source": [
    "This is an error message, complaining that the computer doesn't know what Glacier is. The problem is that, without the quotation marks, python thinks that star is the name of a variable, and complains when it can't find a variable by that name. Putting the quotation marks tells python that we mean a string, not a variable named star.\n",
    "\n",
    "Obviously we can't add strings in the same sense that we add numbers, but we can still do operations on them. The plus operation concatenates two strings together:"
   ]
  },
  {
   "cell_type": "code",
   "execution_count": null,
   "id": "c6f4a0ea-ca66-499d-a7e0-4c027714668a",
   "metadata": {
    "id": "aRuHMtSCuTiO"
   },
   "outputs": [],
   "source": [
    "e = \"Ice\""
   ]
  },
  {
   "cell_type": "code",
   "execution_count": null,
   "id": "4d1100b9-8bb4-49a5-b087-3b7804938b11",
   "metadata": {
    "id": "CCSu7EAsuTiQ"
   },
   "outputs": [],
   "source": [
    "d+e"
   ]
  },
  {
   "cell_type": "markdown",
   "id": "aeab7ad7-e2c0-48d1-a4c0-f43e2f7d1abd",
   "metadata": {
    "id": "r1_AbnCuuTiS"
   },
   "source": [
    "In addition to integers, floats, and strings, there is one other type of object worth mentioning at this moment. That is a Boolean variable (named after George Boole), which represents a logical value. Boolean variables can be either True or False, and are stored using a single bit:"
   ]
  },
  {
   "cell_type": "code",
   "execution_count": null,
   "id": "0d7ca931-c270-4d78-be7c-fcca9c26b39d",
   "metadata": {
    "id": "_B87FWj5uTiS"
   },
   "outputs": [],
   "source": [
    "g = True"
   ]
  },
  {
   "cell_type": "code",
   "execution_count": null,
   "id": "0866d5e9-4230-4682-bc2e-27db86810d11",
   "metadata": {
    "id": "j3rtOWeVuTiW"
   },
   "outputs": [],
   "source": [
    "type(g)"
   ]
  },
  {
   "cell_type": "markdown",
   "id": "3a799b83-6919-4cad-9871-8a0e8a1c34d4",
   "metadata": {
    "id": "IVPIaEyquTiZ"
   },
   "source": [
    "Boolean variables can have logic operations performed on them. In particular, there are three logical operators that we care about: not, and, and or. Play around with the cells below (defining new variables to test your theories on if you wish) and see if you can figure out what each one does, and then describe it below."
   ]
  },
  {
   "cell_type": "code",
   "execution_count": null,
   "id": "d5ec8ee4-a8e3-4fca-8e27-e038a4c93d9d",
   "metadata": {
    "id": "xifoaLdIuTia"
   },
   "outputs": [],
   "source": [
    "not g"
   ]
  },
  {
   "cell_type": "code",
   "execution_count": null,
   "id": "1a1d8004-988d-4e30-a415-04880af138f9",
   "metadata": {
    "id": "muZMPkR4uTid"
   },
   "outputs": [],
   "source": [
    "h = False"
   ]
  },
  {
   "cell_type": "code",
   "execution_count": null,
   "id": "055fbb02-5ae8-42ed-89c3-6b1624648cad",
   "metadata": {
    "id": "taIGRR50uTif"
   },
   "outputs": [],
   "source": [
    "g and h"
   ]
  },
  {
   "cell_type": "code",
   "execution_count": null,
   "id": "bf8e546e-28ee-4b7f-9768-ce9daf10d0a8",
   "metadata": {
    "id": "5kiqkK63uTii"
   },
   "outputs": [],
   "source": [
    "g or h"
   ]
  },
  {
   "cell_type": "markdown",
   "id": "a697d64b-8f8f-4dc1-8e84-e6101fce14bc",
   "metadata": {},
   "source": [
    "---\n",
    "\n",
    "## 2. Functions, Methods, and Packages\n",
    "\n",
    "Our end goal in using python is to analyze, visualize, and interpret quantitative data. To do that, we perform complex operations on the data, some of which come defined in Python for everyone to use, some of which are written by others but distributed for broad use, and some of which we define ourselves. I found the nomenclature that describes these operations, and the syntax required to use them in Python, confusing when I Was first learning, so I want to take some time and be clear here. The video below provides a brief overview of functions, methods, and packages, which we will go through in more detail below."
   ]
  },
  {
   "cell_type": "code",
   "execution_count": 11,
   "id": "20541081-d8c0-4e60-8c13-ffac6470b26d",
   "metadata": {},
   "outputs": [
    {
     "data": {
      "image/jpeg": "[encoded data removed]",
      "text/html": [
       "\n",
       "        <iframe\n",
       "            width=\"1000\"\n",
       "            height=\"600\"\n",
       "            src=\"https://www.youtube.com/embed/7QHl4OMjLUU\"\n",
       "            frameborder=\"0\"\n",
       "            allowfullscreen\n",
       "        ></iframe>\n",
       "        "
      ],
      "text/plain": [
       "<IPython.lib.display.YouTubeVideo at 0x7ffb801be220>"
      ]
     },
     "execution_count": 11,
     "metadata": {},
     "output_type": "execute_result"
    }
   ],
   "source": [
    "from IPython.display import YouTubeVideo\n",
    "YouTubeVideo('7QHl4OMjLUU', width=1000, height=600)"
   ]
  },
  {
   "cell_type": "markdown",
   "id": "3047810e-9d0e-48e2-b3a9-9de1df88023c",
   "metadata": {},
   "source": [
    "* **Function**: This is a statement in python that performs a specific task. Typically functions take inputs, which we call **arguments**, that are objects that supply critical information to the function. Executing, or \"calling\" a function, is typically done using the function name, followed by parenthesis containing a sequence of arguments, e.g.: `function(arg1,arg2)`\n",
    "* **Method**: This is a specific type of function, and to understand it, we have to broaden our definition of \"object\". As we said before, objects contain data. But in addition to data, objects can also contain a defined set of functions that people would want to commonly apply to the data stored in that object. We call those functions that come bundled in an object \"methods\" -- these typically use the data stored in the object as the input argument (although this does not preclude the use of additional arguments with a method). Methods are executed/called in a different way -- imagine we had a list stored in the variable `obj`, then calling a method would look as follows: `obj.method(arg1,arg2)`.\n",
    "* **Packages**: We often want to use functions and create new kinds of objects than python needs by default. There are communities dedicated to developing code for common functions, and we can simply download and install these publically available sets of code called \"packages\" using tools called \"package managers\". At the start of each notebook, it is conventional to tell Python which of the installed packages you want to use. To do this, you use a special function in python called `import`, which brings that code into your working environment. To use functions from a package, you first import them by stating `import packagename`, and then you typically use the following syntax to run functions from that package: `packagename.function(arg1,arg2)`\n",
    "\n",
    "There are many aspects of the below that will still be unculear, but I provide this code as an example of importing a very common package for mathematical manipulation of data (`numpy`), using a numpy function to find the minimum of set of anumbers, and calling a method attached to the set of numbers that does ."
   ]
  },
  {
   "cell_type": "code",
   "execution_count": null,
   "id": "9217ad69-876e-4a61-be94-c407dbcc3e8f",
   "metadata": {
    "id": "dQQGmgiLuTim"
   },
   "outputs": [],
   "source": [
    "import numpy\n",
    "########## This creates a special numpy object that we will discuss below))\n",
    "a = numpy.array([1,2,3,4])\n",
    "a"
   ]
  },
  {
   "cell_type": "code",
   "execution_count": null,
   "id": "0c8def0e-ff76-42a6-a3fa-0bba10943bcf",
   "metadata": {
    "id": "lLRbhUsiuTio"
   },
   "outputs": [],
   "source": [
    "numpy.min(a)"
   ]
  },
  {
   "cell_type": "code",
   "execution_count": null,
   "id": "8fca815a-8f96-4153-b013-0f39454fe051",
   "metadata": {},
   "outputs": [],
   "source": [
    "a.min()"
   ]
  },
  {
   "cell_type": "markdown",
   "id": "ace2f24d-c4f3-4d54-8f34-dda4e17ad438",
   "metadata": {},
   "source": [
    "There are a few cases where we want to import packages in a slightly different way. For packages that we will be using often, we don't want to type the package name out in its entirety every time we use a function, so we can give the package a shorthand name when we import it. For example, many folks use `np` in place of `numpy`, and we can import it in a way that allows us to maintain that shorthand throughout the notebook:"
   ]
  },
  {
   "cell_type": "code",
   "execution_count": null,
   "id": "823cd83f-2d47-4907-a42e-d8ec88aff57b",
   "metadata": {},
   "outputs": [],
   "source": [
    "import numpy as np\n",
    "np.array([1,2,3,4])"
   ]
  },
  {
   "cell_type": "markdown",
   "id": "16ef1b7e-7c18-4104-8c5b-0447467cb4b5",
   "metadata": {},
   "source": [
    "It is also possible to import just a single function from a package -- when you do that, you can call that function just using `function(arg1,arg2)` instead of `package.function(arg1,arg2)`. So, for example, if we just wanted that `min()` function from numpy, we could do the following:"
   ]
  },
  {
   "cell_type": "code",
   "execution_count": null,
   "id": "fc368b82-dff6-46a9-b30b-71c7e0281530",
   "metadata": {},
   "outputs": [],
   "source": [
    "from numpy import min\n",
    "min(a)"
   ]
  },
  {
   "cell_type": "markdown",
   "id": "c1cbd457-d70c-4e6a-ab38-485ee11e7412",
   "metadata": {},
   "source": [
    "This section is primarily designed to give you some facilitiy with the language of Python -- the practical skills demonstrated here will be reinforced more as we continue to work with the language. But, if there are parts of this that are unclear, now is a good time to chat with your neighbors about the cells above. See if you can make sense of them together, or if not, feel free to come ask questions!"
   ]
  },
  {
   "cell_type": "markdown",
   "id": "1a111a00-7eca-43bb-95ce-6563db43a27d",
   "metadata": {
    "id": "nlsI6XimuTil"
   },
   "source": [
    "---\n",
    "\n",
    "## 3 Objects that store multiple values\n",
    "\n",
    "Ultimately, we aren't going to be working with individual numbers -- much of what we are going to do resembles the cells in the previous section: working with large collections of numbers. So it is useful to think about the native Python objects that can store more than one value. The video below provides a brief review of objects and variable names (as you saw in the previous exercise), and then introduces the python-native objects that are capable of storing multiple values. (If you feel like you don't need the review, feel free to skip to 4:00)."
   ]
  },
  {
   "cell_type": "code",
   "execution_count": 12,
   "id": "dfc5e05b-77df-40c2-99db-52120b55131e",
   "metadata": {},
   "outputs": [
    {
     "data": {
      "image/jpeg": "[encoded data removed]",
      "text/html": [
       "\n",
       "        <iframe\n",
       "            width=\"1000\"\n",
       "            height=\"600\"\n",
       "            src=\"https://www.youtube.com/embed/4vWB82BMRRc\"\n",
       "            frameborder=\"0\"\n",
       "            allowfullscreen\n",
       "        ></iframe>\n",
       "        "
      ],
      "text/plain": [
       "<IPython.lib.display.YouTubeVideo at 0x7ffb801a0b50>"
      ]
     },
     "execution_count": 12,
     "metadata": {},
     "output_type": "execute_result"
    }
   ],
   "source": [
    "from IPython.display import YouTubeVideo\n",
    "YouTubeVideo('4vWB82BMRRc', width=1000, height=600)"
   ]
  },
  {
   "cell_type": "markdown",
   "id": "1fa3db41-64ae-413d-956d-2a202082f5e0",
   "metadata": {
    "id": "nlsI6XimuTil"
   },
   "source": [
    "### 3.1 Python Native Objects\n",
    "\n",
    "There are ultimately three object types that are built into basic python:\n",
    "* **The Tuple**: Created by including multiple numbers within `()`, separated by commas.\n",
    "* **The List**: Created by including multiple numbers within `[]`, separated by commas.\n",
    "* **The Dictionary**: Created by including what are called \"key:value pairs\" within `{}`, separated by commas (this will be explained in more detail in a moment).\n",
    "\n",
    "An important characteristic of Tuples and Lists is that they are \"ordered\" -- that is, the values have a defined sequence, and if you want to think about just a subset of the information stored in a Tuple or List, you can find the part you want based on where your targeted data sit in the defined order. This process of selecting just a subset of an object is called **\"indexing\"**, and we will talk about it in great detail by the end of this exercise. \n",
    "\n",
    "So what makes lists and tuples different? If, let's say, you have a `list` containing 10 values, and you decide you want to change the 4th value, python allows you to modify parts of the list after it is created. But if you have a `tuple` containing those same 10 values, and you want to update it with a new 4th entry, tuples will _**not**_ let you do that. Because tuples can never be changed once they are created, we call them \"immutable\". (I almost never use Tuples, but there are some situations where it is nice to guarantee your object will never change).\n",
    "\n",
    "Unlike Tuples and Lists, Dictionaries are not ordered in any particular sequence. Instead, each value stored in a dictionary is assigned a \"key\" -- a name, defined by a string, that can be used to find subsets of the dictionary that you care about. We will practice finding the values we are interested in in Tuples, Lists, and Dictionaries in a moment -- for now, I want to simply present an example of a tuple, a list, and a dictionary below. Remember the brackets used to identify the different sets: `()`, `[]`,`{}`."
   ]
  },
  {
   "cell_type": "code",
   "execution_count": null,
   "id": "befce339-6ee1-437f-bac9-29165985f66d",
   "metadata": {},
   "outputs": [],
   "source": [
    "a = (1,1,2,3,5,7,12)\n",
    "a"
   ]
  },
  {
   "cell_type": "code",
   "execution_count": null,
   "id": "1a053b7c-f3f4-4352-84dc-1c3a37e3491f",
   "metadata": {},
   "outputs": [],
   "source": [
    "type(a)"
   ]
  },
  {
   "cell_type": "code",
   "execution_count": null,
   "id": "6662e9b8-8f33-416b-b5fd-d5e8498caf6d",
   "metadata": {},
   "outputs": [],
   "source": [
    "b = [1,1,2,3,5,7,12]\n",
    "b"
   ]
  },
  {
   "cell_type": "code",
   "execution_count": null,
   "id": "bd0c188e-ee2b-4526-bb86-b4973a20a8a3",
   "metadata": {},
   "outputs": [],
   "source": [
    "type(b)"
   ]
  },
  {
   "cell_type": "code",
   "execution_count": null,
   "id": "57773990-e29f-4b72-adf2-487308f6ccd6",
   "metadata": {},
   "outputs": [],
   "source": [
    "c = {'cat':1,'dog':1,'bird':2,'lizard':3,'giraffe':5}\n",
    "c"
   ]
  },
  {
   "cell_type": "code",
   "execution_count": null,
   "id": "195d40f1-d323-48c5-956a-c37d29908d1b",
   "metadata": {},
   "outputs": [],
   "source": [
    "type(c)"
   ]
  },
  {
   "cell_type": "markdown",
   "id": "07a93e47-556e-4338-8465-b59238231ecf",
   "metadata": {},
   "source": [
    "Lists and tuples are incredibly flexible objects -- they can store in their compartments objects with a variety of types. Take a look at the example below, where I have a list with an integer, a floating point number, and a string, all in one object!"
   ]
  },
  {
   "cell_type": "code",
   "execution_count": null,
   "id": "2eb599ca-c8f9-493e-b35b-ce6521122a62",
   "metadata": {},
   "outputs": [],
   "source": [
    "flex_list = [1, 33.4, 'Hello']\n",
    "flex_list"
   ]
  },
  {
   "cell_type": "markdown",
   "id": "038d4295-666a-4b52-b8ae-c9094790836c",
   "metadata": {},
   "source": [
    "### 3.2 The Numpy Array\n",
    "\n",
    "This flexibility of a list is a double edged sword -- by having the ability to store anything, it can be a quick and dirty tool for collecting objects of any flavor. But because you can't guarantee all of the objects contained by the list are the same type, there are a limited number of built in operations that allow you to (for example) perform a computation on every object in the list at the same time. This is a severe limitation. So, when dealing with numbers, we typically use a special object designed within the `numpy` package we mentioned above: the \"numpy array\". Like lists and tuples, numpy arrays are ordered, but they can only contain numbers that all have the same type. To make a numpy array, we need to do three things:\n",
    "* Import numpy (this only needs to be done once in each notebook)\n",
    "* Assemble our collection of numbers in one of the native python objects\n",
    "* Use the `numpy.array` function, with our collection of numbers as the input argument. "
   ]
  },
  {
   "cell_type": "code",
   "execution_count": null,
   "id": "e097c3ad-692e-4113-9c53-0ca6d5f6c4cf",
   "metadata": {},
   "outputs": [],
   "source": [
    "import numpy\n",
    "values = [1,1,2,3,5,8,13];\n",
    "value_array = numpy.array(values)\n",
    "\n",
    "value_array"
   ]
  },
  {
   "cell_type": "markdown",
   "id": "d00657ab-c3f2-4fe6-b3e6-6f92a4765207",
   "metadata": {},
   "source": [
    "Now, we can use the numpy array to perform rapid operations on all of the values it contains. For example, imagine we wanted to add 3.5 to every number, we simply do the following:"
   ]
  },
  {
   "cell_type": "code",
   "execution_count": null,
   "id": "e298c160-8373-40a5-a93a-703711eb7baa",
   "metadata": {},
   "outputs": [],
   "source": [
    "value_array+3.5"
   ]
  },
  {
   "cell_type": "markdown",
   "id": "234aebfd-03e0-401e-bb53-60abf80c0f13",
   "metadata": {
    "id": "fZ5Otah-uTim"
   },
   "source": [
    "### 3.1 Basic Indexing\n",
    "\n",
    "As mentioned above, \"indexing\" is how we refer to individual items (or subsets) of an object in Python. Indexing can get _incredibly_ complicated -- we will build some sophisticiation in the way we index data in the future. But for now, we want to cover the basics: how do we pull out subsets of our objects? To do this, we are going to focus on just two object types -- numpy arrays and dictionaries. These highlight the two primary ways we will index objects: using their integer positions in iterables (in objects like numpy arrays), and using keys within the object (in objects like dictionaries)."
   ]
  },
  {
   "cell_type": "code",
   "execution_count": 13,
   "id": "ccb1659c-1732-45de-8a1f-a8460c505eac",
   "metadata": {},
   "outputs": [
    {
     "data": {
      "image/jpeg": "[encoded data removed]",
      "text/html": [
       "\n",
       "        <iframe\n",
       "            width=\"1000\"\n",
       "            height=\"600\"\n",
       "            src=\"https://www.youtube.com/embed/FNlCC2aTiaY\"\n",
       "            frameborder=\"0\"\n",
       "            allowfullscreen\n",
       "        ></iframe>\n",
       "        "
      ],
      "text/plain": [
       "<IPython.lib.display.YouTubeVideo at 0x7ffb801be430>"
      ]
     },
     "execution_count": 13,
     "metadata": {},
     "output_type": "execute_result"
    }
   ],
   "source": [
    "from IPython.display import YouTubeVideo\n",
    "YouTubeVideo('FNlCC2aTiaY', width=1000, height=600)"
   ]
  },
  {
   "cell_type": "markdown",
   "id": "a8968b24-cfa7-48f9-8a3a-c54cf7b0505b",
   "metadata": {
    "id": "fZ5Otah-uTim"
   },
   "source": [
    "So, let's start with our basic iterable (in this case, a numpy array). Think of an array as a box with a bunch of numbered compartments, each of which can hold something. For example, here is a box with eight compartments.\n",
    "\n",
    "![](https://drive.google.com/uc?export=view&id=1liecCBkXR30DXDrw6lnOkcLpoQQNJ9sE) \n",
    "\n",
    "Imagine we will those boxes with specific numbers. We can visualize the object in terms of the values stored (the numbers in the box), and the \"index\" associated with each value (the numbers below the boxes).\n",
    "\n",
    "![](https://drive.google.com/uc?export=view&id=1Pcu4VtKtojLGa3Mkx9fHkXpkNPHeWiTe) \n",
    "\n",
    "We can use the \"index\" (the integer associated with each compartment) to pull out specific values that we are interested in. It is important to note that when python is counting boxes, it starts counting with the first box labeled \"0\". This is something that is set by convention for different programming languages; some start at 0, some start at 1. There are advantages to each, but people will fight to the death over which is better (and most Computer Science people argue it is 0...). \n",
    "\n",
    "Let's create the specific array I've drawn here, and store it in the variable `x`:"
   ]
  },
  {
   "cell_type": "code",
   "execution_count": null,
   "id": "30330bad-79b7-43db-8b81-58464bff6eb7",
   "metadata": {
    "id": "Cjq_wjAouTiv"
   },
   "outputs": [],
   "source": [
    "x = np.array([10,11,12,13,14,15,16,17])"
   ]
  },
  {
   "cell_type": "markdown",
   "id": "5b052d1b-3348-4558-8f28-d6ba2de52bf4",
   "metadata": {
    "id": "aYoztcpAuTix"
   },
   "source": [
    "Note that there is no output here, because again we are defining a variable. You can see it and check the stored values by typing the variable name."
   ]
  },
  {
   "cell_type": "code",
   "execution_count": null,
   "id": "14bb6b59-1d64-4df3-8168-12b95b8e4171",
   "metadata": {
    "id": "x655TmniuTix"
   },
   "outputs": [],
   "source": [
    "x"
   ]
  },
  {
   "cell_type": "markdown",
   "id": "583bec5c-f61a-4b86-ad67-39bfb7fc2217",
   "metadata": {},
   "source": [
    "Now, if we wanted to pull out just the number 13, we can ask Python to provide just a subset of our object by calling the object and using `[]` to indicate which indecies we want. For 13, we want index 3:"
   ]
  },
  {
   "cell_type": "code",
   "execution_count": null,
   "id": "30d94e21-aba8-48bb-a591-0454dbfb562c",
   "metadata": {},
   "outputs": [],
   "source": [
    "x[3]"
   ]
  },
  {
   "cell_type": "code",
   "execution_count": null,
   "id": "85d40d12-01fa-418d-9ed7-4fd227ad05c2",
   "metadata": {
    "id": "HPTgCkcduTjH"
   },
   "outputs": [],
   "source": [
    "type(x[3])"
   ]
  },
  {
   "cell_type": "code",
   "execution_count": null,
   "id": "b556defd-1066-4888-98f5-a2dad38c7d4a",
   "metadata": {},
   "outputs": [],
   "source": [
    "x[3]*2"
   ]
  },
  {
   "cell_type": "code",
   "execution_count": null,
   "id": "4d49e34a-ef33-4c49-94c2-051baca68015",
   "metadata": {
    "id": "tIDfJoYEuTjM"
   },
   "outputs": [],
   "source": [
    "x[2] = 32\n",
    "x"
   ]
  },
  {
   "cell_type": "markdown",
   "id": "af665f12-6f0f-432a-aeec-41d11c92cb03",
   "metadata": {
    "id": "X536_u_tuTjN"
   },
   "source": [
    "In the examples above, we printed out the value stored in compartment number 3 of the array x, we checked the type of value stored in that compartment (in this case, a 64 bit integer), we multiplied it by 2 to get a result, and then we assigned a different value (32) to that compartment, erasing its original value.\n",
    "\n",
    "So why are arrays more useful than just individual variables? There are a number of reasons, but one of the most important is called broadcasting, meaning that we can access, perform arithmetic with, and alter multiple elements of an array at once. We specify parts of an array by giving a range of indices in the square brackets.  To specify which indecies we want, we can use the following general framework:\n",
    "`object[start_index:end_index:index_spacing]`\n",
    "\n",
    "You do not have to specify every value in that framework. Leaving the first value blank means you want to start from the beginning of the array, leaving the second value blank means you want to go to the end of the array, and leaving the third value blank means you want to use every value between start and end. Python always interprets the indexing statement from left to right; if you include only a single colon, it assumes you are entering just information aboutu the start and end indecies. Here are a couple of examples of possible indexing statements - think about what each might mean?\n",
    "* `obj[0:4]`\n",
    "* `obj[4:]`\n",
    "* `obj[:10]`\n",
    "* `obj[:]`\n",
    "* `obj[::4]`\n"
   ]
  },
  {
   "cell_type": "code",
   "execution_count": null,
   "id": "7198c322-0ca7-4a0e-be78-06ce0c83df6b",
   "metadata": {
    "id": "d32vPxPSuTjO"
   },
   "outputs": [],
   "source": [
    "x[1:4]"
   ]
  },
  {
   "cell_type": "markdown",
   "id": "d83b63fb-2c0d-4743-8e9b-67645a638f14",
   "metadata": {
    "id": "D29KrGZLuTjQ"
   },
   "source": [
    "Note, the end index provided are **exclusive, not inclusive, so the ending index element is not included**. Try some of the index options below"
   ]
  },
  {
   "cell_type": "code",
   "execution_count": null,
   "id": "cbf61681-e536-4527-9a1f-b49d80d9e534",
   "metadata": {
    "id": "SxN5zdiduTjQ"
   },
   "outputs": [],
   "source": [
    "x[:4]"
   ]
  },
  {
   "cell_type": "code",
   "execution_count": null,
   "id": "acf79d9d-fdd7-4736-9de8-812f67477612",
   "metadata": {
    "id": "AFSscFskuTjS"
   },
   "outputs": [],
   "source": [
    "x[4:]"
   ]
  },
  {
   "cell_type": "code",
   "execution_count": null,
   "id": "d56e5512-b0c3-43d1-b217-dfd555015832",
   "metadata": {
    "id": "wpa51QLluTjT"
   },
   "outputs": [],
   "source": [
    "x[::2]"
   ]
  },
  {
   "cell_type": "markdown",
   "id": "84a16d1d-19b7-45cb-a1d7-300dfbad877d",
   "metadata": {
    "id": "8nWMxLBZuTjV"
   },
   "source": [
    "\n",
    "Finally, array indices can be specified either as positive numbers, which count from the beginning, or as negative numbers, which count from the end. The last element is -1, the second to last is -2, and so forth, as shown below:\n",
    "\n",
    "![](https://drive.google.com/uc?export=view&id=1aHrZpmzcacTnlE76kCQWT75KIXGMRV7g) \n",
    "\n",
    "This is convenient, for example, if one wants to refer to all but the last 2 elements of an array:"
   ]
  },
  {
   "cell_type": "code",
   "execution_count": null,
   "id": "604cf0b6-d05c-415b-ac56-18aff43f411f",
   "metadata": {
    "id": "ZwH8rHKCuTjV"
   },
   "outputs": [],
   "source": [
    "x[:-2]"
   ]
  },
  {
   "cell_type": "markdown",
   "id": "89a7db4b-9b88-49b3-ba1f-21f8020849e3",
   "metadata": {
    "id": "wV7GzMNfuTjW"
   },
   "source": [
    "The really useful thing is that one can use this capability to perform mathematical operations or assignments to multiple elements of an array at once. Several examples are given below. Execute the cell, examine the output, and make sure you understand what happened to the array before moving on. "
   ]
  },
  {
   "cell_type": "code",
   "execution_count": null,
   "id": "69c3a843-0511-4760-b8ab-a7fc4069a9a8",
   "metadata": {
    "id": "pW8w4zIyuTjW"
   },
   "outputs": [],
   "source": [
    "x-10"
   ]
  },
  {
   "cell_type": "code",
   "execution_count": null,
   "id": "f781192e-b107-478a-9372-3beeac29cd02",
   "metadata": {
    "id": "h1Sr1LkCuTja"
   },
   "outputs": [],
   "source": [
    "x[1:4]-10"
   ]
  },
  {
   "cell_type": "code",
   "execution_count": null,
   "id": "7fe7a6a9-aca6-4e94-ab1f-6df839541b1b",
   "metadata": {
    "id": "g-4z9bWVuTjc"
   },
   "outputs": [],
   "source": [
    "x[1:4]=-10\n",
    "x"
   ]
  },
  {
   "cell_type": "code",
   "execution_count": null,
   "id": "21d6d56f-b412-47ae-94b3-7631a9bf1834",
   "metadata": {
    "id": "st_nH75AuTje"
   },
   "outputs": [],
   "source": [
    "x[::2]=5\n",
    "x"
   ]
  },
  {
   "cell_type": "markdown",
   "id": "e95314a4-a7e4-4889-ac98-945d79eb4ef9",
   "metadata": {},
   "source": [
    "The other type of indexing you will encounter is indexing based on keys. As we mentioned before, dictionaries store information in \"key:value\" pairs, and so is possible to retrieve just the values associated with a single key using a similar syntax for what we use with arrays."
   ]
  },
  {
   "cell_type": "code",
   "execution_count": null,
   "id": "83e34517-13bb-487e-8665-f0fa8ca9fb91",
   "metadata": {},
   "outputs": [],
   "source": [
    "example_dict = {'Nick':[1,2,3,4,5],'Sophia':[6,7,8,9,10],'Ruth':[11,12,13,14,15],'Fiona':[16,17,18,19,20]}\n",
    "example_dict"
   ]
  },
  {
   "cell_type": "markdown",
   "id": "2cbcd708-8362-4773-8ce7-bbaf0ac24e1d",
   "metadata": {},
   "source": [
    "If we just wanted Ruth's values, we can supply the key 'Ruth' in hard brackets to retrieve just her list:"
   ]
  },
  {
   "cell_type": "code",
   "execution_count": null,
   "id": "43c92ef3-c07e-4e2b-8908-6195cc16d684",
   "metadata": {},
   "outputs": [],
   "source": [
    "example_dict['Ruth']"
   ]
  },
  {
   "cell_type": "markdown",
   "id": "3578c312-59b4-461a-b96d-bf526143a71c",
   "metadata": {},
   "source": [
    "<div class=\"alert alert-block alert-info\">\n",
    "<b>Note:</b> One of the most common errors you will encounter in Python is using the wrong type of parenthesis for your intended function. Keep the following in mind:\n",
    "    \n",
    "* There are essentially two scenarios when you will use `( )` -- when calling a function or method, and when defining a tuple. It is useful to keep that in mind, every function uses `( )` to define its input arguments.\n",
    "* There are essentially two scenarios when you will use `[ ]` -- when indexing into an object, or when creating a list.\n",
    "</div>"
   ]
  },
  {
   "cell_type": "markdown",
   "id": "c2613dab-6843-468a-b291-f22a07e9f5a3",
   "metadata": {
    "id": "gIiSWp4zuTjH"
   },
   "source": [
    "---\n",
    "\n",
    "## 4 Advanced Work with Arrays\n",
    "\n",
    "### 4.1 Multidimensional arrays\n",
    "\n",
    "The arrays we've played with so far are one-dimensional, meaning that they look like a series of boxes laid out in a line. However, arrays can be multidimensional as well, where we instead lay the data out in a grid. This results in what we call a two-dimensional array, an example of which we show here: \n",
    "\n",
    "![](https://drive.google.com/uc?export=view&id=1yijbZjKoJRtYVYA099KlAc_wwiKq8Kj5) \n"
   ]
  },
  {
   "cell_type": "code",
   "execution_count": null,
   "id": "9a1c9db2-b9e2-4831-ae78-a850529fad08",
   "metadata": {
    "id": "ASduwh7NuTjm"
   },
   "outputs": [],
   "source": [
    "x2d = np.array([[10,11,12,13,14,15,16,17], [20,21,22,23,24,25,26,27], [30, 31, 32, 33, 34, 35, 36, 37]])\n",
    "x2d"
   ]
  },
  {
   "cell_type": "markdown",
   "id": "1981dc8e-bf74-459f-8c4a-add5916e67ed",
   "metadata": {
    "id": "JGxPsGsKuTjr"
   },
   "source": [
    "Similarly, one can index multi-dimensional arrays just by indexing each dimension in turn, starting with the indecies that represent the rows (those numbers to the left of the above array) and the indecies that represent the columns (the numbers below the array).  Indexing uses the same syntax as before, but the `start_index:end_index:index_spacing` for each dimension is separated by a comma within the `[]`. Execute each of the cells below and make sure you understand what it is doing."
   ]
  },
  {
   "cell_type": "code",
   "execution_count": null,
   "id": "b6555980-326c-4c2d-8997-0cfb1085cced",
   "metadata": {
    "id": "0lhztu7FuTjr"
   },
   "outputs": [],
   "source": [
    "x2d[0,0]"
   ]
  },
  {
   "cell_type": "code",
   "execution_count": null,
   "id": "de7dc1fe-9dd3-4d9b-87ea-ca19acf176a0",
   "metadata": {
    "id": "q9Q3JbvyuTju"
   },
   "outputs": [],
   "source": [
    "x2d[0,:]"
   ]
  },
  {
   "cell_type": "code",
   "execution_count": null,
   "id": "b0fe36a8-df09-485a-a5ba-a7121dc333ea",
   "metadata": {
    "id": "H--TR8u-uTjv"
   },
   "outputs": [],
   "source": [
    "x2d[:,1]"
   ]
  },
  {
   "cell_type": "code",
   "execution_count": null,
   "id": "72e03733-0292-4532-aefd-421f1bc78c02",
   "metadata": {
    "id": "3tid6GL6uTjx"
   },
   "outputs": [],
   "source": [
    "x2d[:,1:4]"
   ]
  },
  {
   "cell_type": "markdown",
   "id": "e367d042-49a9-4b2f-89f1-4ef45d1a3c79",
   "metadata": {
    "id": "Ffny5f0WuTjy"
   },
   "source": [
    "Arrays can of course have more than two dimensions as well. In fact, there is no limit to how many dimensions they can have.\n",
    "\n",
    "You can also do useful things like find the maximum and minimum values in arrays, and their means and totals:"
   ]
  },
  {
   "cell_type": "code",
   "execution_count": null,
   "id": "3f3be336-328e-495a-8aa5-7cddb56ccf19",
   "metadata": {
    "id": "Nq0gE_nLuTjz"
   },
   "outputs": [],
   "source": [
    "np.amin(x2d)"
   ]
  },
  {
   "cell_type": "code",
   "execution_count": null,
   "id": "2f85a493-1e04-4882-98ce-e19b59275894",
   "metadata": {
    "id": "azxJQMXMuTj0"
   },
   "outputs": [],
   "source": [
    "np.amax(x2d)"
   ]
  },
  {
   "cell_type": "code",
   "execution_count": null,
   "id": "ebf92da4-bc65-4fe2-86d1-27ea01ae66a0",
   "metadata": {
    "id": "qq7rmxgTuTj2"
   },
   "outputs": [],
   "source": [
    "np.mean(x2d)"
   ]
  },
  {
   "cell_type": "code",
   "execution_count": null,
   "id": "855224dc-e6da-4fb5-ba96-413086318184",
   "metadata": {
    "id": "3THUQWytuTj3"
   },
   "outputs": [],
   "source": [
    "np.sum(x2d)"
   ]
  },
  {
   "cell_type": "markdown",
   "id": "605af5b1-0268-4947-903c-2fc79fab2338",
   "metadata": {
    "id": "TgtD5SDEuTj4"
   },
   "source": [
    "### 4.4 Array Attributes\n",
    "\n",
    "Some of the work we do is image manipulation, and images are essentially very large arrays (large enough that it no longer becomes practical to print them to the window as we've been doing here). Upon importing an array or after manipulating it, you will often want to know some of its basic properties. There are several built-in python functions that are particularly useful for this, and you call them by typing the variable name + the operator name, as below. "
   ]
  },
  {
   "cell_type": "code",
   "execution_count": null,
   "id": "990cd4d7-e3e3-4495-8b24-fd05666f0389",
   "metadata": {
    "id": "r2Yg9iMjuTj4"
   },
   "outputs": [],
   "source": [
    "x2d.ndim"
   ]
  },
  {
   "cell_type": "code",
   "execution_count": null,
   "id": "3a634a03-66e5-4e84-8134-fbd0148282e3",
   "metadata": {
    "id": "t6U5zM2puTj6"
   },
   "outputs": [],
   "source": [
    "x2d.shape"
   ]
  },
  {
   "cell_type": "code",
   "execution_count": null,
   "id": "da33feab-a4df-411f-8ae7-e009ca010dde",
   "metadata": {
    "id": "8K00bt3euTj7"
   },
   "outputs": [],
   "source": [
    "x2d.size"
   ]
  },
  {
   "cell_type": "code",
   "execution_count": null,
   "id": "d0fc0cb8-aafe-4fe5-acf7-084f53de1302",
   "metadata": {
    "id": "B6fTrXgMuTj9"
   },
   "outputs": [],
   "source": [
    "x2d.dtype"
   ]
  },
  {
   "cell_type": "markdown",
   "id": "5270fa64-1f0d-4516-aba9-7d9026129d07",
   "metadata": {
    "id": "Vowm1WFWuTj_"
   },
   "source": [
    "<div class=hw>\n",
    "\n",
    "### Exercise 4 \n",
    "\n",
    "-------------\n",
    "\n",
    "Follow the steps below. \n",
    "\n",
    "1) Create a 10 x 10 numpy array and set it equal to a variable. An easy way to initialize an array of a given size is to use the numpy `zeros` function, which takes a single argument that is a list containing the number of values in each dimension. Print it to output once you're done populating it as described below. \n",
    "  * make the first row contain the numbers 1 through 10 in order  \n",
    "  * make each element in the second row equal to 1 more than the first row  \n",
    "  * row 3 = row 1\\*10  \n",
    "  * row 4 = (row 1)$^2$  \n",
    "  * row 5 = $\\sqrt{row 2}$  \n",
    "  * row 6 = 3\\*row 3-2\\*row 4\n",
    "  * row 7 = alternating 0s and 1s, starting with 1\n",
    "  * row 8 = all 8s except the third from last element, which is -8\n",
    "  * row 9 = 1, 1/2, 1/3, 1/4, ...\n",
    "  * row 10 = all elements are 42\n",
    "\n",
    "2) copy this array into a new variable, then in the new array, multiply each number in the third column by two  \n",
    "3) set the second to last element in each row of the new array equal to 0, and print the new array as output  \n",
    "4) multiply your original array by this new array and print the output  \n",
    "    \n",
    "<div class=\"alert alert-block alert-info\">\n",
    "One of the most common errors you will encounter in Python is using the wrong type of parenthesis for your intended function. Keep the following in mind:Say you know you want to use the numpy function zeros to define an array, but you can't remember the syntax for the option, its name, etc. You can do one of the following:\n",
    "    \n",
    "* Enter the function name with a question mark in code cell and execute, e.g.: `np.zeros?`\n",
    "* When in command mode in the Jupyter Notebook, type `command+i` -- this will launch the contextual help window. Clicking on any python function will describe what it is in the contextual help window.\n",
    "</div>\n",
    "\n",
    "\n",
    "    "
   ]
  },
  {
   "cell_type": "code",
   "execution_count": null,
   "id": "56f82c7f-f3d7-440f-9ede-c292bdad602e",
   "metadata": {
    "id": "vY4081sDuTj_"
   },
   "outputs": [],
   "source": [
    "#execute this cell before beginning so that the array will be more readable when you print it\n",
    "np.set_printoptions(precision=3, suppress=True, linewidth=120)"
   ]
  },
  {
   "cell_type": "code",
   "execution_count": null,
   "id": "f9856b4d-aecb-489a-95fd-3ca2398fc927",
   "metadata": {
    "id": "Y8wvnLWFuTkB"
   },
   "outputs": [],
   "source": []
  },
  {
   "cell_type": "markdown",
   "id": "fae7bd75-a47e-47f3-a664-67d19aaac252",
   "metadata": {
    "id": "ZPZMymkGuTkC"
   },
   "source": [
    "In addition to the capabilities we've just gone through, arrays can do far more. For a full list, see http://docs.scipy.org/doc/numpy/reference/arrays.ndarray.html."
   ]
  }
 ],
 "metadata": {
  "kernelspec": {
   "display_name": "Python 3 (ipykernel)",
   "language": "python",
   "name": "python3"
  },
  "language_info": {
   "codemirror_mode": {
    "name": "ipython",
    "version": 3
   },
   "file_extension": ".py",
   "mimetype": "text/x-python",
   "name": "python",
   "nbconvert_exporter": "python",
   "pygments_lexer": "ipython3",
   "version": "3.8.10"
  },
  "widgets": {
   "application/vnd.jupyter.widget-state+json": {
    "state": {},
    "version_major": 2,
    "version_minor": 0
   }
  }
 },
 "nbformat": 4,
 "nbformat_minor": 5
}

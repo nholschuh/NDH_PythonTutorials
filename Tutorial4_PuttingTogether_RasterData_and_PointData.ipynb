{
 "cells": [
  {
   "cell_type": "markdown",
   "id": "drawn-pierce",
   "metadata": {},
   "source": [
    "# Here is an example of putting it all together -- vector data, raster data, extracting values, and plotting\n",
    "---\n",
    "The first step is to import all of the packages we might need:\n",
    "\n",
    "glob for searching directories\n",
    "xarray and rioxarray for managing the raster data\n",
    "matplotlib for plotting\n",
    "pyproj for coordinate reprojection"
   ]
  },
  {
   "cell_type": "code",
   "execution_count": 1,
   "id": "moderate-trouble",
   "metadata": {},
   "outputs": [],
   "source": [
    "import glob as glob\n",
    "import xarray as xr\n",
    "import rioxarray as rxr\n",
    "import matplotlib.pyplot as plt\n",
    "import sys\n",
    "\n",
    "### here, we import the local data read utilities from TS\n",
    "sys.path.append('../Altimetry_Tools/read-ICESat-2/')\n",
    "\n",
    "\n",
    "import icesat2_toolkit.utilities\n",
    "from icesat2_toolkit.read_ICESat2_ATL03 import read_HDF5_ATL03\n",
    "from icesat2_toolkit.read_ICESat2_ATL06 import read_HDF5_ATL06\n",
    "from icesat2_toolkit.read_ICESat2_ATL11 import read_HDF5_ATL11\n",
    "\n",
    "### finally, pyproj is a useful tool for converting geographic coordinates (lat/Lon) to local coordinate systems\n",
    "from pyproj import Transformer\n",
    "\n",
    "### this transformer object is designed to convert latitude/longitude to Antarctic Polarstereographic coordinates.\n",
    "transformer = Transformer.from_crs(\"epsg:4326\", \"epsg:3031\")"
   ]
  },
  {
   "cell_type": "markdown",
   "id": "korean-spouse",
   "metadata": {},
   "source": [
    "Here, we read in the gridded dataset that we want to extract values from"
   ]
  },
  {
   "cell_type": "code",
   "execution_count": 2,
   "id": "asian-fusion",
   "metadata": {},
   "outputs": [
    {
     "ename": "IndexError",
     "evalue": "list index out of range",
     "output_type": "error",
     "traceback": [
      "\u001b[0;31m---------------------------------------------------------------------------\u001b[0m",
      "\u001b[0;31mIndexError\u001b[0m                                Traceback (most recent call last)",
      "\u001b[0;32m/tmp/ipykernel_800550/915299318.py\u001b[0m in \u001b[0;36m<module>\u001b[0;34m\u001b[0m\n\u001b[1;32m      1\u001b[0m \u001b[0mfn\u001b[0m \u001b[0;34m=\u001b[0m \u001b[0mglob\u001b[0m\u001b[0;34m.\u001b[0m\u001b[0mglob\u001b[0m\u001b[0;34m(\u001b[0m\u001b[0;34m'../../CommonData/Antarctic_SurfaceElevation/*.nc'\u001b[0m\u001b[0;34m)\u001b[0m\u001b[0;34m\u001b[0m\u001b[0;34m\u001b[0m\u001b[0m\n\u001b[0;32m----> 2\u001b[0;31m \u001b[0msurfelev\u001b[0m \u001b[0;34m=\u001b[0m \u001b[0mrxr\u001b[0m\u001b[0;34m.\u001b[0m\u001b[0mopen_rasterio\u001b[0m\u001b[0;34m(\u001b[0m\u001b[0mfn\u001b[0m\u001b[0;34m[\u001b[0m\u001b[0;36m0\u001b[0m\u001b[0;34m]\u001b[0m\u001b[0;34m)\u001b[0m\u001b[0;34m\u001b[0m\u001b[0;34m\u001b[0m\u001b[0m\n\u001b[0m",
      "\u001b[0;31mIndexError\u001b[0m: list index out of range"
     ]
    }
   ],
   "source": [
    "fn = glob.glob('../../CommonData/Antarctic_SurfaceElevation/*.nc')\n",
    "surfelev = rxr.open_rasterio(fn[0])"
   ]
  },
  {
   "cell_type": "markdown",
   "id": "civic-warrior",
   "metadata": {},
   "source": [
    "Here we read in the ICESat-2 dataset, and convert the coordinates for one of the beam pairs to x and y"
   ]
  },
  {
   "cell_type": "code",
   "execution_count": null,
   "id": "english-perfume",
   "metadata": {},
   "outputs": [],
   "source": [
    "fn = glob.glob('./ICESat2_Read_and_Plotting/ATL11*')\n",
    "data11 = read_HDF5_ATL11(fn[0])[0]\n",
    "data11.keys()\n",
    "\n",
    "x,y = transformer.transform(data11['pt1']['latitude'],data11['pt1']['longitude'])"
   ]
  },
  {
   "cell_type": "markdown",
   "id": "physical-paragraph",
   "metadata": {},
   "source": [
    "Then we use the xarray \"vectorized indexing\" tool to extract values from the raster dataset, nearest to each of the points in the ICESat-2 data"
   ]
  },
  {
   "cell_type": "code",
   "execution_count": 1,
   "id": "metric-kingdom",
   "metadata": {},
   "outputs": [
    {
     "ename": "NameError",
     "evalue": "name 'xr' is not defined",
     "output_type": "error",
     "traceback": [
      "\u001b[0;31m---------------------------------------------------------------------------\u001b[0m",
      "\u001b[0;31mNameError\u001b[0m                                 Traceback (most recent call last)",
      "\u001b[0;32m/tmp/ipykernel_1589929/3603143101.py\u001b[0m in \u001b[0;36m<module>\u001b[0;34m\u001b[0m\n\u001b[0;32m----> 1\u001b[0;31m \u001b[0mx_search\u001b[0m \u001b[0;34m=\u001b[0m \u001b[0mxr\u001b[0m\u001b[0;34m.\u001b[0m\u001b[0mDataArray\u001b[0m\u001b[0;34m(\u001b[0m\u001b[0mx\u001b[0m\u001b[0;34m,\u001b[0m\u001b[0mdims\u001b[0m\u001b[0;34m=\u001b[0m\u001b[0;34m[\u001b[0m\u001b[0;34m'vector_index'\u001b[0m\u001b[0;34m]\u001b[0m\u001b[0;34m)\u001b[0m\u001b[0;34m\u001b[0m\u001b[0;34m\u001b[0m\u001b[0m\n\u001b[0m\u001b[1;32m      2\u001b[0m \u001b[0my_search\u001b[0m \u001b[0;34m=\u001b[0m \u001b[0mxr\u001b[0m\u001b[0;34m.\u001b[0m\u001b[0mDataArray\u001b[0m\u001b[0;34m(\u001b[0m\u001b[0my\u001b[0m\u001b[0;34m,\u001b[0m\u001b[0mdims\u001b[0m\u001b[0;34m=\u001b[0m\u001b[0;34m[\u001b[0m\u001b[0;34m'vector_index'\u001b[0m\u001b[0;34m]\u001b[0m\u001b[0;34m)\u001b[0m\u001b[0;34m\u001b[0m\u001b[0;34m\u001b[0m\u001b[0m\n\u001b[1;32m      3\u001b[0m \u001b[0mextracted_values\u001b[0m \u001b[0;34m=\u001b[0m \u001b[0msurfelev\u001b[0m\u001b[0;34m.\u001b[0m\u001b[0msel\u001b[0m\u001b[0;34m(\u001b[0m\u001b[0mx\u001b[0m\u001b[0;34m=\u001b[0m\u001b[0mx_search\u001b[0m\u001b[0;34m,\u001b[0m\u001b[0my\u001b[0m\u001b[0;34m=\u001b[0m\u001b[0my_search\u001b[0m\u001b[0;34m,\u001b[0m\u001b[0mmethod\u001b[0m\u001b[0;34m=\u001b[0m\u001b[0;34m'nearest'\u001b[0m\u001b[0;34m)\u001b[0m\u001b[0;34m\u001b[0m\u001b[0;34m\u001b[0m\u001b[0m\n\u001b[1;32m      4\u001b[0m \u001b[0minterpolated_values\u001b[0m \u001b[0;34m=\u001b[0m \u001b[0msurfelev\u001b[0m\u001b[0;34m.\u001b[0m\u001b[0minterp\u001b[0m\u001b[0;34m(\u001b[0m\u001b[0mx\u001b[0m\u001b[0;34m=\u001b[0m\u001b[0mx_search\u001b[0m\u001b[0;34m,\u001b[0m\u001b[0my\u001b[0m\u001b[0;34m=\u001b[0m\u001b[0my_search\u001b[0m\u001b[0;34m)\u001b[0m\u001b[0;34m\u001b[0m\u001b[0;34m\u001b[0m\u001b[0m\n",
      "\u001b[0;31mNameError\u001b[0m: name 'xr' is not defined"
     ]
    }
   ],
   "source": [
    "x_search = xr.DataArray(x,dims=['vector_index'])\n",
    "y_search = xr.DataArray(y,dims=['vector_index'])\n",
    "extracted_values = surfelev.sel(x=x_search,y=y_search,method='nearest')\n",
    "interpolated_values = surfelev.interp(x=x_search,y=y_search)"
   ]
  },
  {
   "cell_type": "markdown",
   "id": "residential-wisdom",
   "metadata": {},
   "source": [
    "And then we plot the two different surface height datasets on top of one another:"
   ]
  },
  {
   "cell_type": "code",
   "execution_count": null,
   "id": "terminal-alcohol",
   "metadata": {},
   "outputs": [],
   "source": [
    "plt.plot(extracted_values.values[0,:],'.',color='red')\n",
    "plt.plot(data11['pt1']['h_corr'][:,0],'.',color='black')\n",
    "\n",
    "plt.gca().set_ylim([-200,2000])"
   ]
  },
  {
   "cell_type": "code",
   "execution_count": null,
   "id": "exotic-photograph",
   "metadata": {},
   "outputs": [],
   "source": [
    "extracted_values"
   ]
  },
  {
   "cell_type": "code",
   "execution_count": null,
   "id": "eastern-mining",
   "metadata": {},
   "outputs": [],
   "source": []
  }
 ],
 "metadata": {
  "kernelspec": {
   "display_name": "Python 3 (ipykernel)",
   "language": "python",
   "name": "python3"
  },
  "language_info": {
   "codemirror_mode": {
    "name": "ipython",
    "version": 3
   },
   "file_extension": ".py",
   "mimetype": "text/x-python",
   "name": "python",
   "nbconvert_exporter": "python",
   "pygments_lexer": "ipython3",
   "version": "3.8.10"
  },
  "widgets": {
   "application/vnd.jupyter.widget-state+json": {
    "state": {},
    "version_major": 2,
    "version_minor": 0
   }
  }
 },
 "nbformat": 4,
 "nbformat_minor": 5
}
